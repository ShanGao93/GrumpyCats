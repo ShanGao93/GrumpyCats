{
 "cells": [
  {
   "cell_type": "markdown",
   "metadata": {},
   "source": [
    "### Fuzzy Classifier Testing"
   ]
  },
  {
   "cell_type": "code",
   "execution_count": 1,
   "metadata": {},
   "outputs": [
    {
     "name": "stderr",
     "output_type": "stream",
     "text": [
      "\n",
      "Install the spreadsheet gem version ~>1.1.1 for using spreadsheet functions.\n",
      "\n",
      "Install the mechanize gem version ~>2.7.5 for using mechanize functions.\n"
     ]
    },
    {
     "data": {
      "application/javascript": [
       "if(window['d3'] === undefined ||\n",
       "   window['Nyaplot'] === undefined){\n",
       "    var path = {\"d3\":\"https://cdnjs.cloudflare.com/ajax/libs/d3/3.5.5/d3.min\",\"downloadable\":\"http://cdn.rawgit.com/domitry/d3-downloadable/master/d3-downloadable\"};\n",
       "\n",
       "\n",
       "\n",
       "    var shim = {\"d3\":{\"exports\":\"d3\"},\"downloadable\":{\"exports\":\"downloadable\"}};\n",
       "\n",
       "    require.config({paths: path, shim:shim});\n",
       "\n",
       "\n",
       "require(['d3'], function(d3){window['d3']=d3;console.log('finished loading d3');require(['downloadable'], function(downloadable){window['downloadable']=downloadable;console.log('finished loading downloadable');\n",
       "\n",
       "\tvar script = d3.select(\"head\")\n",
       "\t    .append(\"script\")\n",
       "\t    .attr(\"src\", \"http://cdn.rawgit.com/domitry/Nyaplotjs/master/release/nyaplot.js\")\n",
       "\t    .attr(\"async\", true);\n",
       "\n",
       "\tscript[0][0].onload = script[0][0].onreadystatechange = function(){\n",
       "\n",
       "\n",
       "\t    var event = document.createEvent(\"HTMLEvents\");\n",
       "\t    event.initEvent(\"load_nyaplot\",false,false);\n",
       "\t    window.dispatchEvent(event);\n",
       "\t    console.log('Finished loading Nyaplotjs');\n",
       "\n",
       "\t};\n",
       "\n",
       "\n",
       "});});\n",
       "}\n"
      ],
      "text/plain": [
       "\"if(window['d3'] === undefined ||\\n   window['Nyaplot'] === undefined){\\n    var path = {\\\"d3\\\":\\\"https://cdnjs.cloudflare.com/ajax/libs/d3/3.5.5/d3.min\\\",\\\"downloadable\\\":\\\"http://cdn.rawgit.com/domitry/d3-downloadable/master/d3-downloadable\\\"};\\n\\n\\n\\n    var shim = {\\\"d3\\\":{\\\"exports\\\":\\\"d3\\\"},\\\"downloadable\\\":{\\\"exports\\\":\\\"downloadable\\\"}};\\n\\n    require.config({paths: path, shim:shim});\\n\\n\\nrequire(['d3'], function(d3){window['d3']=d3;console.log('finished loading d3');require(['downloadable'], function(downloadable){window['downloadable']=downloadable;console.log('finished loading downloadable');\\n\\n\\tvar script = d3.select(\\\"head\\\")\\n\\t    .append(\\\"script\\\")\\n\\t    .attr(\\\"src\\\", \\\"http://cdn.rawgit.com/domitry/Nyaplotjs/master/release/nyaplot.js\\\")\\n\\t    .attr(\\\"async\\\", true);\\n\\n\\tscript[0][0].onload = script[0][0].onreadystatechange = function(){\\n\\n\\n\\t    var event = document.createEvent(\\\"HTMLEvents\\\");\\n\\t    event.initEvent(\\\"load_nyaplot\\\",false,false);\\n\\t    window.dispatchEvent(event);\\n\\t    console.log('Finished loading Nyaplotjs');\\n\\n\\t};\\n\\n\\n});});\\n}\\n\""
      ]
     },
     "metadata": {},
     "output_type": "display_data"
    },
    {
     "data": {
      "text/plain": [
       "true"
      ]
     },
     "execution_count": 1,
     "metadata": {},
     "output_type": "execute_result"
    }
   ],
   "source": [
    "require 'open-uri'\n",
    "require 'json'\n",
    "require 'daru'\n",
    "require 'distribution'\n",
    "require 'sqlite3'\n",
    "require 'rbplotly'"
   ]
  },
  {
   "cell_type": "code",
   "execution_count": 2,
   "metadata": {},
   "outputs": [
    {
     "data": {
      "text/plain": [
       "true"
      ]
     },
     "execution_count": 2,
     "metadata": {},
     "output_type": "execute_result"
    }
   ],
   "source": [
    "dir = \"#{ENV['HOME']}/cs6140/final_project\"\n",
    "db = SQLite3::Database.new \"#{dir}/credit_risk_data.db\"\n",
    "db.results_as_hash = true"
   ]
  },
  {
   "cell_type": "code",
   "execution_count": 50,
   "metadata": {},
   "outputs": [
    {
     "data": {
      "text/plain": [
       "1"
      ]
     },
     "execution_count": 50,
     "metadata": {},
     "output_type": "execute_result"
    }
   ],
   "source": [
    "features = [\"EXT_SOURCE_3\"]\n",
    "features1 = [\"EXT_SOURCE_3\", \"EXT_SOURCE_2\", \"EXT_SOURCE_1\", \"DAYS_BIRTH\"]\n",
    "\n",
    "def fetch_data db, features\n",
    "  table = \"application_train\"\n",
    "  query = \"select \" + features.join(\",\") + \", Target label from \" + table + \" order by \" + features[0] + \" asc\" \n",
    "  data = []\n",
    "  db.execute(query).each do |r|\n",
    "    row = Hash.new\n",
    "    row[\"features\"] = Hash.new\n",
    "    features.each do |f|\n",
    "      row[\"features\"][f] = r[f]\n",
    "    end\n",
    "    row[\"label\"] = r[\"label\"]\n",
    "    data << row\n",
    "  end\n",
    "  return data\n",
    "end\n",
    "\n",
    "data = fetch_data db, features\n",
    "data1 = fetch_data db, features1\n",
    "1"
   ]
  },
  {
   "cell_type": "code",
   "execution_count": 5,
   "metadata": {},
   "outputs": [
    {
     "data": {
      "text/plain": [
       "1"
      ]
     },
     "execution_count": 5,
     "metadata": {},
     "output_type": "execute_result"
    }
   ],
   "source": [
    "def fetch_data_special db\n",
    "  table = \"application_train\"\n",
    "  query = \"select EXT_SOURCE_1, EXT_SOURCE_2, EXT_SOURCE_3, DAYS_BIRTH, (AMT_CREDIT/AMT_ANNUITY) as AMT_RATIO, Target label from \" + table\n",
    "  data = []\n",
    "  db.execute(query).each do |r|\n",
    "    row = Hash.new\n",
    "    row[\"features\"] = Hash.new\n",
    "    [\"EXT_SOURCE_1\", \"EXT_SOURCE_2\", \"EXT_SOURCE_3\", \"AMT_RATIO\", \"DAYS_BIRTH\"].each do |f|\n",
    "      row[\"features\"][f] = r[f]\n",
    "    end\n",
    "    row[\"label\"] = r[\"label\"]\n",
    "    data << row\n",
    "  end\n",
    "  return data\n",
    "end\n",
    "\n",
    "# data1 = fetch_data_special db\n",
    "1"
   ]
  },
  {
   "cell_type": "code",
   "execution_count": 6,
   "metadata": {},
   "outputs": [
    {
     "data": {
      "text/plain": [
       "{\"features\"=>{\"EXT_SOURCE_1\"=>0.08303696739132256, \"EXT_SOURCE_2\"=>0.2629485927471776, \"EXT_SOURCE_3\"=>0.13937578009978951, \"AMT_RATIO\"=>16.46110402623429, \"DAYS_BIRTH\"=>-9461}, \"label\"=>1}"
      ]
     },
     "execution_count": 6,
     "metadata": {},
     "output_type": "execute_result"
    }
   ],
   "source": [
    "data1 = fetch_data_special db\n",
    "data1[0]"
   ]
  },
  {
   "cell_type": "code",
   "execution_count": 7,
   "metadata": {},
   "outputs": [
    {
     "data": {
      "text/plain": [
       "1"
      ]
     },
     "execution_count": 7,
     "metadata": {},
     "output_type": "execute_result"
    }
   ],
   "source": [
    "scores = data.collect {|x| x[\"features\"][\"EXT_SOURCE_3\"]}.select{ |x| x && x!= \"\" }.sort.uniq.reverse\n",
    "1"
   ]
  },
  {
   "cell_type": "code",
   "execution_count": 8,
   "metadata": {},
   "outputs": [
    {
     "data": {
      "text/plain": [
       "[0.8960095494948396, 0.8939760746042866, 0.8876642018413868, 0.8854883941521002, 0.8825303127941461, 0.881026574983999, 0.8802684803872619, 0.8795062158892447, 0.878739766981187, 0.8771942581973663]"
      ]
     },
     "execution_count": 8,
     "metadata": {},
     "output_type": "execute_result"
    }
   ],
   "source": [
    "scores[0, 10]"
   ]
  },
  {
   "cell_type": "markdown",
   "metadata": {},
   "source": [
    "IVFS, Tuning parameters $\\alpha, a, b, W$ where a and b are tuning parameters for IV-REF, IV-REF is a function to understand the similarities of two intervals"
   ]
  },
  {
   "cell_type": "markdown",
   "metadata": {},
   "source": [
    "### Step 0. Preparation, helper functions and classes"
   ]
  },
  {
   "cell_type": "code",
   "execution_count": 9,
   "metadata": {},
   "outputs": [
    {
     "data": {
      "text/plain": [
       ":parse_class"
      ]
     },
     "execution_count": 9,
     "metadata": {},
     "output_type": "execute_result"
    }
   ],
   "source": [
    "# turns data to data_class\n",
    "def parse_class x\n",
    "  s = Hash.new {|h,k| h[k] = 0}\n",
    "  x.each do |p|\n",
    "    s[p[\"label\"]] += 1\n",
    "  end\n",
    "  return s\n",
    "end"
   ]
  },
  {
   "cell_type": "code",
   "execution_count": 51,
   "metadata": {},
   "outputs": [
    {
     "data": {
      "text/plain": [
       ":update_weights"
      ]
     },
     "execution_count": 51,
     "metadata": {},
     "output_type": "execute_result"
    }
   ],
   "source": [
    "def roc_curve train, predictions, scores\n",
    "  tprs = []\n",
    "  fprs = []    \n",
    "        \n",
    "  scores.each do |s|\n",
    "    tp = 0\n",
    "    tn = 0\n",
    "    fp = 0\n",
    "    fn = 0\n",
    "    train.each.with_index do |row, i|\n",
    "      y = row[\"label\"]\n",
    "      p = (predictions[i].values[0] > s) ? 1 : 0\n",
    "      if y == p\n",
    "        tp += 1 if p.to_i.to_s == \"1\"\n",
    "        tn += 1 if p.to_i.to_s == \"0\"\n",
    "      else\n",
    "        fp += 1 if p.to_i.to_s == \"1\"\n",
    "        fn += 1 if p.to_i.to_s == \"0\"\n",
    "      end\n",
    "    end\n",
    "    tpr = (tp + fn) == 0.0 ? 0.0 : tp.to_f / (tp + fn) \n",
    "    fpr = (fp + tn) == 0.0 ? 0.0 : fp.to_f / (fp + tn)\n",
    "    tprs << tpr\n",
    "    fprs << fpr\n",
    "  end\n",
    "  \n",
    "  tprs << 1.0\n",
    "  fprs << 1.0\n",
    "  \n",
    "  return fprs, tprs\n",
    "end\n",
    "\n",
    "def auc fprs, tprs\n",
    "  x = 0.0\n",
    "  y = 0.0\n",
    "  area = 0.0\n",
    "  fprs.each.with_index do |fpr, i|\n",
    "    tpr = tprs[i]\n",
    "    area += (fpr - x) * (tpr + y) / 2.0\n",
    "    x = fpr\n",
    "    y = tpr\n",
    "  end\n",
    "  return area\n",
    "end\n",
    "\n",
    "def plot x, y\n",
    "  Daru::DataFrame.new({x: x, y: y}).plot(type: :line, x: :x, y: :y) do |plot, diagram|\n",
    "    plot.x_label \"X\"\n",
    "    plot.y_label \"Y\"\n",
    "  end\n",
    "end\n",
    "\n",
    "def confusion_matrix cls_names, x, predictions\n",
    "  counts = Hash.new {|h,k| h[k] = Hash.new {|h,k| h[k] = 0}}\n",
    "  cls_names.each {|i| cls_names.each{|j| counts[i][j] = 0}}\n",
    "  \n",
    "  x.each.with_index do |row, i|\n",
    "    predicted_label = predictions[i].keys.first\n",
    "    actual_label = row[\"label\"]\n",
    "    \n",
    "    counts[predicted_label.to_s][actual_label.to_s] += 1\n",
    "  end\n",
    "  \n",
    "  return counts\n",
    "end\n",
    "\n",
    "def update_weights(w, dw, learning_rate)\n",
    "  w1 = w.clone\n",
    "  dw.each_key do |k|\n",
    "    w1[k] -= learning_rate * dw[k]\n",
    "  end  \n",
    "  w1\n",
    "end"
   ]
  },
  {
   "cell_type": "markdown",
   "metadata": {},
   "source": [
    "## Step 1. Generate type-1 FRBCS and rule base"
   ]
  },
  {
   "cell_type": "markdown",
   "metadata": {},
   "source": [
    "### 1.1 Calculate the  minimum support for each class"
   ]
  },
  {
   "cell_type": "code",
   "execution_count": 52,
   "metadata": {},
   "outputs": [
    {
     "data": {
      "text/plain": [
       "{0=>282686, 1=>24825}"
      ]
     },
     "execution_count": 52,
     "metadata": {},
     "output_type": "execute_result"
    }
   ],
   "source": [
    "parse_class data"
   ]
  },
  {
   "cell_type": "code",
   "execution_count": 53,
   "metadata": {},
   "outputs": [
    {
     "data": {
      "text/plain": [
       ":min_supp"
      ]
     },
     "execution_count": 53,
     "metadata": {},
     "output_type": "execute_result"
    }
   ],
   "source": [
    "# return the minimum support in order to generate a rule\n",
    "def min_supp data, label, minsups\n",
    "  x_class = parse_class data\n",
    "  return minsups[label] * x_class[label].to_f / x_class.values.sum\n",
    "end"
   ]
  },
  {
   "cell_type": "markdown",
   "metadata": {},
   "source": [
    "$MinSupp_{C_{j}} = minSup * f_{C_{j}}$, where $f_{C_{j}}$ is the proportion of class k to the entire data\n",
    "\n",
    "We will use 0.1 and 0.2 as minSup for each class respectively."
   ]
  },
  {
   "cell_type": "code",
   "execution_count": 54,
   "metadata": {},
   "outputs": [
    {
     "name": "stdout",
     "output_type": "stream",
     "text": [
      "{0=>0.09192711805431351, 1=>0.009687458334823795}\n"
     ]
    }
   ],
   "source": [
    "# calculate the minimum support\n",
    "minsups = [0.1, 0.12]\n",
    "min_supps = Hash.new\n",
    "min_supps[0] = min_supp data, 0, minsups\n",
    "min_supps[1] = min_supp data, 1, minsups\n",
    "puts min_supps"
   ]
  },
  {
   "cell_type": "markdown",
   "metadata": {},
   "source": [
    "### 1.2 Build the search tree \n",
    "We will use the following 5-label linguistic fuzzy sets to train the numerical patterns for search tree[1] with the triangle membership function.\n",
    "\n",
    "Each Sets stands for:\n",
    "\n",
    "$S_{0}$: very low, $S_{1}$: low, $S_{2}$: medium, $S_{3}$: high, $S_{4}$: very high, "
   ]
  },
  {
   "cell_type": "code",
   "execution_count": 55,
   "metadata": {},
   "outputs": [
    {
     "data": {
      "text/plain": [
       "[{\"feature\"=>\"EXT_SOURCE_3\", \"set\"=>0, \"mid\"=>0.0005272652387098817, \"base\"=>0.4477411421280649}, {\"feature\"=>\"EXT_SOURCE_3\", \"set\"=>1, \"mid\"=>0.22439783630274232, \"base\"=>0.4477411421280649}, {\"feature\"=>\"EXT_SOURCE_3\", \"set\"=>2, \"mid\"=>0.44826840736677476, \"base\"=>0.4477411421280649}, {\"feature\"=>\"EXT_SOURCE_3\", \"set\"=>3, \"mid\"=>0.6721389784308072, \"base\"=>0.4477411421280649}, {\"feature\"=>\"EXT_SOURCE_3\", \"set\"=>4, \"mid\"=>0.8960095494948396, \"base\"=>0.4477411421280649}]"
      ]
     },
     "execution_count": 55,
     "metadata": {},
     "output_type": "execute_result"
    }
   ],
   "source": [
    "# Generate the n-label linguistic fuzzy sets based on all possible features\n",
    "def feature_fuzzy_sets data, n\n",
    "  fs = []\n",
    "  h = data[0][\"features\"].keys\n",
    "  h.each do |f|\n",
    "    scores = data.collect {|x| x[\"features\"][f]}.select{ |x| x && x!= \"\" }.\n",
    "      sort.uniq\n",
    "    # 5-label fuzzy set\n",
    "    (0..(n-1)).each do |i|\n",
    "      max = scores.max\n",
    "      min = scores.min\n",
    "      # since min is 0 and max is 1, there will be only 4 gaps\n",
    "      base = (max - min).to_f / (n-1)\n",
    "      r = Hash.new\n",
    "      r[\"feature\"] = f\n",
    "      r[\"set\"] = i\n",
    "      r[\"mid\"] = min + base * i\n",
    "      r[\"base\"] = base * 2\n",
    "      fs << r\n",
    "    end\n",
    "  end\n",
    "  return fs\n",
    "end\n",
    "\n",
    "fs = feature_fuzzy_sets data, 5"
   ]
  },
  {
   "cell_type": "markdown",
   "metadata": {},
   "source": [
    "### Fuzzy seach Tree"
   ]
  },
  {
   "cell_type": "markdown",
   "metadata": {},
   "source": [
    "Then we define the $Support$ and $Confidence$ functions, these will be the pruning criteras for the search tree\n",
    "\n",
    "$\\textbf Support$ ($A_{j} \\rightarrow C_{j}) = \\frac {\\sum x_{p \\in Class C_{j} } \\mu_{A_{j}}(x_{p}) }{|N|}$\n",
    "\n",
    "$\\textbf Confidence(A_{j} \\rightarrow C_{j}) = \\frac {\\sum x_{p \\in Class C_{j} } \\mu_{A_{j}}(x_{p}) }{\\sum_{N} \\mu_{A_{j}}(x_{p})}$"
   ]
  },
  {
   "cell_type": "code",
   "execution_count": 15,
   "metadata": {},
   "outputs": [
    {
     "data": {
      "text/plain": [
       ":t_norm"
      ]
     },
     "execution_count": 15,
     "metadata": {},
     "output_type": "execute_result"
    }
   ],
   "source": [
    "# def density data, ante, w\n",
    "#   u = 0.0\n",
    "#   i = 0.0\n",
    "#   data.each do |x|\n",
    "#     v = x[\"features\"][ante[\"feature\"]]\n",
    "#     next if v.nil? or v == \"\"\n",
    "#     i += 1\n",
    "#     u += (1.0 - (mu x, ante, w, true))**2\n",
    "#   end\n",
    "#   return u/i\n",
    "# end\n",
    "\n",
    "def support data, antes, cl, mu_table\n",
    "  u = 0.0\n",
    "  data.each do |x|\n",
    "    next if x[\"label\"] != cl\n",
    "    mus = []\n",
    "    antes.each do |ante|\n",
    "      v = x[\"features\"][ante[\"feature\"]]\n",
    "      next if v.nil? or v == \"\"\n",
    "      header = ante[\"feature\"].to_s + \"_\" + ante[\"set\"].to_s\n",
    "      mu = mu_table[header][v]\n",
    "      mus << mu\n",
    "      # skip some iterations if we found one mu as 0.\n",
    "      break if mu == 0\n",
    "    end\n",
    "    u += t_norm mus if mus.length > 0\n",
    "  end\n",
    "  return u/data.length\n",
    "end\n",
    "\n",
    "def confidence data, antes, cl, mu_table\n",
    "  u = 0.0\n",
    "  d = 0.0\n",
    "  data.each do |x|\n",
    "    mus = []\n",
    "    antes.each do |ante|\n",
    "      v = x[\"features\"][ante[\"feature\"]]\n",
    "      next if v.nil? or v == \"\"\n",
    "      header = ante[\"feature\"].to_s + \"_\" + ante[\"set\"].to_s\n",
    "      mu = mu_table[header][v]\n",
    "      mus << mu\n",
    "      # skip some iterations if we found one mu as 0.\n",
    "      break if mu == 0\n",
    "    end\n",
    "    u += t_norm mus if x[\"label\"] == cl && mus.length > 0\n",
    "    d += t_norm mus if mus.length > 0\n",
    "  end\n",
    "  return u/d\n",
    "end\n",
    "\n",
    "# def support_confidence data, antes, cl, mu_table\n",
    "#   u = 0.0\n",
    "#   d = 0.0\n",
    "#   i = 0\n",
    "#   data.each do |x|\n",
    "#     mus = []\n",
    "#     antes.each do |ante|\n",
    "#       v = x[\"features\"][ante[\"feature\"]]\n",
    "#       next if v.nil? or v == \"\"\n",
    "#       i += 1\n",
    "#       header = ante[\"feature\"].to_s + \"_\" + ante[\"set\"].to_s\n",
    "#       mu = mu_table[header][v]\n",
    "#       mus << mu\n",
    "#       # skip some iterations if we found one mu as 0.\n",
    "#       break if mu == 0\n",
    "#     end\n",
    "#     u += t_norm mus if x[\"label\"] == cl && mus.length > 0\n",
    "#     d += t_norm mus if mus.length > 0\n",
    "#   end\n",
    "#   return [u/data.length, u/d]\n",
    "# end\n",
    "\n",
    "# Given a fuzzy set, calculate its target mu\n",
    "def mu x, ante, w, negative_enabled = false\n",
    "  f = ante[\"feature\"]\n",
    "  mid = ante[\"mid\"]\n",
    "  base = ante[\"base\"]\n",
    "  v = x[\"features\"][f]\n",
    "  puts \"gaga\" if v == \"\" or v.nil?\n",
    "  mem = 1.0 - ((v - (mid + w * ante[\"base\"])).to_f * 2 / base).abs\n",
    "  return mem if negative_enabled\n",
    "  return [0.0, mem].max\n",
    "end\n",
    "\n",
    "# Calulate the t-normalization of a vecotr x, use either min or product t-norm\n",
    "def t_norm x\n",
    "  return x.min\n",
    "end\n",
    "\n",
    "def t_norm x\n",
    "  return x.reduce(:*)\n",
    "end"
   ]
  },
  {
   "cell_type": "code",
   "execution_count": 16,
   "metadata": {},
   "outputs": [
    {
     "data": {
      "text/plain": [
       ":generate_mu_table"
      ]
     },
     "execution_count": 16,
     "metadata": {},
     "output_type": "execute_result"
    }
   ],
   "source": [
    "def supp_prune rules, min_supp\n",
    "  return rules.select { |r| r[\"support\"] > min_supp}\n",
    "end\n",
    "\n",
    "def confi_prune rules\n",
    "  return rules.select { |r| r[\"confidence\"] > 0.0 and r[\"confidence\"] < 1.0 }\n",
    "end\n",
    "\n",
    "def generate_leaves data, last_leaves, mu_table, cl\n",
    "  leaves = []\n",
    "  last_leaves.each do |rule1|\n",
    "    f1 = rule1[\"antecedent\"].map { |r| r[\"feature\"] }\n",
    "    last_leaves.each do |rule2|\n",
    "      f2 = rule2[\"antecedent\"].map { |r| r[\"feature\"] }\n",
    "      total = (f1 + f2).uniq.length\n",
    "      next if total < f1.length + f2.length\n",
    "      rule = Hash.new\n",
    "      rule[\"antecedent\"] = (rule1[\"antecedent\"] + rule2[\"antecedent\"])\n",
    "      rule[\"support\"] = support data, rule[\"antecedent\"], cl, mu_table\n",
    "      rule[\"confidence\"] = confidence data, rule[\"antecedent\"], cl, mu_table\n",
    "      rule[\"class\"] = cl\n",
    "      leaves << rule\n",
    "    end\n",
    "  end\n",
    "  return leaves\n",
    "end\n",
    "\n",
    "def generate_mu_table data, ffs, w\n",
    "  mu_table = Hash.new\n",
    "\n",
    "  # Initialize the rules\n",
    "  ffs.each do |fs|\n",
    "    (0..1).each do |cl|\n",
    "      header = fs[\"feature\"].to_s + \"_\" + fs[\"set\"].to_s\n",
    "      mu_table[header] = Hash.new\n",
    "      data.each do |x|\n",
    "        v = x[\"features\"][fs[\"feature\"]]\n",
    "        mu_table[header][v] = (mu x, fs, w[header]) if !mu_table[header].key?(v) and v != \"\" and !v.nil?\n",
    "      end\n",
    "    end\n",
    "  end\n",
    "  return mu_table\n",
    "end"
   ]
  },
  {
   "cell_type": "code",
   "execution_count": 17,
   "metadata": {},
   "outputs": [],
   "source": [
    "# def adjust_data data, ante\n",
    "#   data_ad = []\n",
    "#   data.each do |x|\n",
    "#     v = x[\"features\"][ante[\"feature\"]]\n",
    "#     next if v.nil? or v == \"\"\n",
    "#     mid = ante[\"mid\"]\n",
    "#     range = ante[\"base\"] * 0.75\n",
    "#     data_ad << x if (v - mid).abs <= range\n",
    "#   end\n",
    "#   return data_ad\n",
    "# end\n",
    "\n",
    "# def adjust w\n",
    "#     w = [[-0.25, w].max, 0.25].min\n",
    "# end\n",
    "\n",
    "# def grad data, ante, w\n",
    "#   u = 0.0\n",
    "#   i = 0\n",
    "#   data.each do |x|\n",
    "#     v = x[\"features\"][ante[\"feature\"]]\n",
    "#     next if v.nil? or v == \"\"\n",
    "#     i += 1\n",
    "#     u += - 4 * ( v - (ante[\"mid\"] + w * ante[\"base\"]) ) / (ante[\"base\"] ** 2)\n",
    "#   end\n",
    "#   return u / i\n",
    "# end"
   ]
  },
  {
   "cell_type": "code",
   "execution_count": 18,
   "metadata": {},
   "outputs": [],
   "source": [
    "# w = Hash.new { |h,k| h[k] = 0.0 }\n",
    "# ffs = feature_fuzzy_sets data, 5\n",
    "\n",
    "# density data, ffs[0], 0"
   ]
  },
  {
   "cell_type": "code",
   "execution_count": 19,
   "metadata": {},
   "outputs": [],
   "source": [
    "# w = Hash.new { |h,k| h[k] = 0.0 }\n",
    "\n",
    "# # learning rate and tolerence as usual\n",
    "# lr = 1e-2\n",
    "# tol = 1e-3\n",
    "# max_iter = 100\n",
    "\n",
    "# ffs.each do |fs|\n",
    "#   # Adjust the data to only include relavent features among relavent region from [-0.75, 0.75]\n",
    "#   data_ad = adjust_data data, fs\n",
    "#   header = fs[\"feature\"].to_s + \"_\" + fs[\"set\"].to_s\n",
    "#   wi = 0.0\n",
    "#   prev_wi = 0.0\n",
    "#   (0..max_iter).each do\n",
    "#     dw = grad data_ad, fs, wi\n",
    "#     wi = adjust(wi - lr*dw)\n",
    "# #     puts density data_ad, fs, wi\n",
    "# #     puts wi\n",
    "#     if (prev_wi - wi).abs < tol\n",
    "#       w[header] = wi\n",
    "#       break\n",
    "#     end\n",
    "#     prev_wi = wi\n",
    "#     w[header] = wi\n",
    "#   end\n",
    "# end\n",
    "# 1\n",
    "\n",
    "# puts w"
   ]
  },
  {
   "cell_type": "code",
   "execution_count": 56,
   "metadata": {
    "scrolled": true
   },
   "outputs": [
    {
     "data": {
      "text/plain": [
       ":build_search_tree"
      ]
     },
     "execution_count": 56,
     "metadata": {},
     "output_type": "execute_result"
    }
   ],
   "source": [
    "# Build a search tree based on five-label fuzzy set\n",
    "def build_search_tree data, min_supps, max_lvl, n, w\n",
    "  # Generate the first layer of rules, getting all possible fuzzy sets by the 5-label linguistic rule\n",
    "  last_leaves = Hash.new { |h, k| h[k] = []}\n",
    "  ffs = feature_fuzzy_sets data, n\n",
    "  \n",
    "  puts \"Initialize mu table\"\n",
    "  \n",
    "  mu_table = generate_mu_table data, ffs, w\n",
    "  \n",
    "  puts \"Mu table initialization complete\"\n",
    "  puts \"Generate first lvl of leaves\"\n",
    "  \n",
    "  ffs.each do |fs|\n",
    "    (0..1).each do |cl|\n",
    "      rule = Hash.new\n",
    "      rule[\"antecedent\"] = [fs]\n",
    "#       rule[\"support\"], rule[\"confidence\"], = support_confidence data, rule[\"antecedent\"], cl, mu_table\n",
    "      rule[\"support\"] = support data, rule[\"antecedent\"], cl, mu_table\n",
    "      rule[\"confidence\"] = confidence data, rule[\"antecedent\"], cl, mu_table\n",
    "      rule[\"class\"] = cl\n",
    "      last_leaves[cl] << rule\n",
    "    end\n",
    "  end\n",
    "  \n",
    "  rules = Hash.new { |h, k| h[k] = []}\n",
    " \n",
    "  (0..1).each do |cl|\n",
    "    curr_lvl = 0\n",
    "    print \"Genearte search tree for label \", cl, \"\\n\"\n",
    "    while true\n",
    "      curr_lvl += 1\n",
    "      print \"\\t lvl \", curr_lvl, \"\\n\"\n",
    "      last_leaves[cl] = (supp_prune last_leaves[cl], min_supps[cl])\n",
    "      rules[cl] += last_leaves[cl]\n",
    "      break if curr_lvl >= max_lvl || last_leaves[cl].length <= 2\n",
    "      last_leaves[cl] = (confi_prune last_leaves[cl])\n",
    "      last_leaves[cl] = generate_leaves data, last_leaves[cl], mu_table, cl\n",
    "    end\n",
    "  end\n",
    "  \n",
    "  return rules\n",
    "end"
   ]
  },
  {
   "cell_type": "code",
   "execution_count": 57,
   "metadata": {
    "scrolled": true
   },
   "outputs": [
    {
     "name": "stdout",
     "output_type": "stream",
     "text": [
      "{0=>0.09192711805431351, 1=>0.009687458334823795}\n",
      "3\n",
      "Initialize mu table\n",
      "Mu table initialization complete\n",
      "Generate first lvl of leaves\n",
      "Genearte search tree for label 0\n",
      "\t lvl 1\n",
      "\t lvl 2\n",
      "Genearte search tree for label 1\n",
      "\t lvl 1\n",
      "\t lvl 2\n"
     ]
    },
    {
     "data": {
      "text/plain": [
       "1"
      ]
     },
     "execution_count": 57,
     "metadata": {},
     "output_type": "execute_result"
    }
   ],
   "source": [
    "w0 = Hash.new { |h,k| h[k] = 0.0 }\n",
    "w = w0\n",
    "rb = []\n",
    "# max lvl of the tree\n",
    "max_lvl = 3\n",
    "\n",
    "# print the parameters\n",
    "puts min_supps, max_lvl\n",
    "\n",
    "# define the rule base\n",
    "\n",
    "rb = build_search_tree data[0, 10000], min_supps, max_lvl, 5, w\n",
    "1"
   ]
  },
  {
   "cell_type": "code",
   "execution_count": 58,
   "metadata": {
    "scrolled": true
   },
   "outputs": [
    {
     "name": "stdout",
     "output_type": "stream",
     "text": [
      "3\n",
      "5\n",
      "[{\"antecedent\"=>[{\"feature\"=>\"EXT_SOURCE_3\", \"set\"=>2, \"mid\"=>0.0695200711486511, \"base\"=>0.06899280590994121}], \"support\"=>0.17587045895347858, \"confidence\"=>0.7307487398582146, \"class\"=>0}, {\"antecedent\"=>[{\"feature\"=>\"EXT_SOURCE_3\", \"set\"=>3, \"mid\"=>0.10401647410362169, \"base\"=>0.06899280590994121}], \"support\"=>0.2754752559852643, \"confidence\"=>0.773186552904449, \"class\"=>0}, {\"antecedent\"=>[{\"feature\"=>\"EXT_SOURCE_3\", \"set\"=>4, \"mid\"=>0.1385128770585923, \"base\"=>0.06899280590994121}], \"support\"=>0.17534415170186235, \"confidence\"=>0.7894406692721149, \"class\"=>0}]\n"
     ]
    }
   ],
   "source": [
    "puts rb[0].length\n",
    "puts rb[1].length\n",
    "puts rb[0][0, 3]"
   ]
  },
  {
   "cell_type": "code",
   "execution_count": 59,
   "metadata": {
    "scrolled": true
   },
   "outputs": [
    {
     "name": "stdout",
     "output_type": "stream",
     "text": [
      "{0=>0.09192711805431351, 1=>0.009687458334823795}\n",
      "3\n",
      "Initialize mu table\n",
      "Mu table initialization complete\n",
      "Generate first lvl of leaves\n",
      "Genearte search tree for label 0\n",
      "\t lvl 1\n",
      "\t lvl 2\n",
      "\t lvl 3\n",
      "Genearte search tree for label 1\n",
      "\t lvl 1\n",
      "\t lvl 2\n",
      "\t lvl 3\n"
     ]
    },
    {
     "data": {
      "text/plain": [
       "1"
      ]
     },
     "execution_count": 59,
     "metadata": {},
     "output_type": "execute_result"
    }
   ],
   "source": [
    "w0 = Hash.new { |h,k| h[k] = 0.0 }\n",
    "w = w0\n",
    "rb = []\n",
    "# max lvl of the tree\n",
    "max_lvl = 3\n",
    "\n",
    "# print the parameters\n",
    "puts min_supps, max_lvl\n",
    "\n",
    "rb1 = []\n",
    "rb1 = build_search_tree data1.shuffle[0, 30000], min_supps, 5, 5, w\n",
    "1"
   ]
  },
  {
   "cell_type": "code",
   "execution_count": 24,
   "metadata": {},
   "outputs": [
    {
     "name": "stdout",
     "output_type": "stream",
     "text": [
      "136\n",
      "94\n",
      "230\n",
      "[{\"antecedent\"=>[{\"feature\"=>\"EXT_SOURCE_1\", \"set\"=>1, \"mid\"=>0.24815057330223564, \"base\"=>0.45645030012747206}], \"support\"=>0.0980856332157271, \"confidence\"=>0.8934817348861779, \"class\"=>0}, {\"antecedent\"=>[{\"feature\"=>\"EXT_SOURCE_1\", \"set\"=>2, \"mid\"=>0.47637572336597167, \"base\"=>0.45645030012747206}], \"support\"=>0.1367529092354696, \"confidence\"=>0.9296142868608361, \"class\"=>0}, {\"antecedent\"=>[{\"feature\"=>\"EXT_SOURCE_1\", \"set\"=>3, \"mid\"=>0.7046008734297078, \"base\"=>0.45645030012747206}], \"support\"=>0.12696833804064317, \"confidence\"=>0.9583391352626806, \"class\"=>0}]\n"
     ]
    }
   ],
   "source": [
    "puts rb1[0].length\n",
    "puts rb1[1].length\n",
    "puts rb1[0].length + rb1[1].length\n",
    "puts rb1[0][0, 3]"
   ]
  },
  {
   "cell_type": "code",
   "execution_count": 25,
   "metadata": {},
   "outputs": [
    {
     "name": "stdout",
     "output_type": "stream",
     "text": [
      "{\"features\"=>{\"EXT_SOURCE_1\"=>0.08303696739132256, \"EXT_SOURCE_2\"=>0.2629485927471776, \"EXT_SOURCE_3\"=>0.13937578009978951, \"AMT_RATIO\"=>16.46110402623429, \"DAYS_BIRTH\"=>-9461}, \"label\"=>1}\n"
     ]
    }
   ],
   "source": [
    "# switch between different data\n",
    "rbs = rb1[0] + rb1[1]\n",
    "data = data1\n",
    "1\n",
    "puts data[0]"
   ]
  },
  {
   "cell_type": "code",
   "execution_count": 26,
   "metadata": {},
   "outputs": [
    {
     "name": "stdout",
     "output_type": "stream",
     "text": [
      "Mu table initialization complete\n"
     ]
    }
   ],
   "source": [
    "# initialize the mu table, which will be used heavily later on\n",
    "ffs = feature_fuzzy_sets data, 5\n",
    "  \n",
    "mu_table = generate_mu_table data, ffs, w\n",
    "puts \"Mu table initialization complete\""
   ]
  },
  {
   "cell_type": "markdown",
   "metadata": {},
   "source": [
    "### Step 2. Candidate rules prescreening(deprecated)\n",
    "\n",
    "In this step, the generated rule base will be prescreened based on a quality measurement value wwr_acc. \n",
    "  \n",
    "There will be two rounds, first, create a weight for each row and initialized it to 1. In round 1, the wwr_acc of all rules will be calculated, then the weight of rows covered the ruless will be updated one by one based on the ranking of wwr_acc."
   ]
  },
  {
   "cell_type": "code",
   "execution_count": 27,
   "metadata": {},
   "outputs": [],
   "source": [
    "# def wwr_acc rule, data, w, mu_table  \n",
    "#   cl = rule[\"class\"]\n",
    "#   n = 0.0\n",
    "#   n_cj = 0.0\n",
    "#   n_prime_cj = 0.0\n",
    "#   n_double_prime_a = 0.0\n",
    "#   n_double_prime_acj = 0.0\n",
    "  \n",
    "#   data.each.with_index do |x, i|    \n",
    "#     mus = []   \n",
    "#     rule[\"antecedent\"].each do |ante|\n",
    "#       v = x[\"features\"][ante[\"feature\"]]\n",
    "#       next if v.nil? or v == \"\"\n",
    "#       header = ante[\"feature\"].to_s + \"_\" + ante[\"set\"].to_s\n",
    "#       mus << mu_table[header][v]\n",
    "#     end\n",
    "    \n",
    "#     mu = mus.length > 0 ? (t_norm mus) : 0.0\n",
    "    \n",
    "#     n += 1\n",
    "#     n_double_prime_a += w[i]*mu\n",
    "    \n",
    "#     if x[\"label\"] == cl\n",
    "#       n_cj += 1\n",
    "#       n_prime_cj += w[i]\n",
    "#       n_double_prime_acj += w[i]*mu\n",
    "#     end\n",
    "#   end\n",
    "#   # print n_cj, \"   \", n_prime_cj, \"   \", n_double_prime_acj, \"   \", n_double_prime_a, \"\\n\"\n",
    "#   return (n_double_prime_acj / n_prime_cj) * (n_double_prime_acj / n_double_prime_a - n_cj / n)\n",
    "# end"
   ]
  },
  {
   "cell_type": "code",
   "execution_count": 28,
   "metadata": {},
   "outputs": [],
   "source": [
    "# def update_weight w, dw, rule, data, mu_table\n",
    "#   data.each.with_index do |x, i|    \n",
    "#     mus = []\n",
    "#     cl = rule[\"class\"]\n",
    "#     rule[\"antecedent\"].each do |ante|\n",
    "#       v = x[\"features\"][ante[\"feature\"]]\n",
    "#       next if v.nil? or v == \"\"\n",
    "#       header = ante[\"feature\"].to_s + \"_\" + ante[\"set\"].to_s\n",
    "#       mus << mu_table[header][v]\n",
    "#     end\n",
    "    \n",
    "#     mu = mus.length > 0 ? (t_norm mus) : 0.0\n",
    "#     w[i] = (mu != 0.0 and x[\"label\"] == cl) ? w[i] + dw : w[i]\n",
    "#   end\n",
    "# end"
   ]
  },
  {
   "cell_type": "code",
   "execution_count": 29,
   "metadata": {},
   "outputs": [],
   "source": [
    "# w = Hash.new { |h, k| h[k] = 1.0 }\n",
    "\n",
    "# puts \"start rbs ranking \" + j.to_s\n",
    "# rbs.each do |r|\n",
    "#   r[\"wwr_acc\"] = wwr_acc r, data, w, mu_table\n",
    "# end\n",
    "\n",
    "# rbs_sorted = rbs.sort_by{ |r| -r[\"wwr_acc\"] }\n",
    "\n",
    "# puts \"Then update weight\"\n",
    "\n",
    "# rbs_sorted.each.with_index do |rb, i|\n",
    "#   dw = -1.0 / (i+2)\n",
    "#   update_weight w, dw, rb, data, mu_table\n",
    "#   z = w.values.sum\n",
    "#   w.each{ |k,v| w[k] = v.to_f / z }\n",
    "# end\n",
    "# 1"
   ]
  },
  {
   "cell_type": "code",
   "execution_count": 30,
   "metadata": {},
   "outputs": [],
   "source": [
    "# puts \"rank again \" + j.to_s\n",
    "# rbs.each do |r|\n",
    "#   r[\"wwr_acc\"] = wwr_acc r, data, w, mu_table\n",
    "# end\n",
    "# 1"
   ]
  },
  {
   "cell_type": "code",
   "execution_count": 31,
   "metadata": {},
   "outputs": [],
   "source": [
    "# rbs_prescreened = rbs.sort_by{ |r| -r[\"wwr_acc\"] }.select{ |r| r[\"wwr_acc\"] > 0.0 }\n",
    "# puts rbs.length\n",
    "# puts rbs_prescreened.length"
   ]
  },
  {
   "cell_type": "code",
   "execution_count": 32,
   "metadata": {},
   "outputs": [],
   "source": [
    "# rbs_prescreened[0, 10]"
   ]
  },
  {
   "cell_type": "markdown",
   "metadata": {},
   "source": [
    "### Step 3. IVFSs construction\n",
    "\n",
    "In this step, we will construct the interval-valued fuzzy set based on our original type-1 fuzzy set."
   ]
  },
  {
   "cell_type": "markdown",
   "metadata": {},
   "source": [
    "![IVFS](IVFS_sample.png)"
   ]
  },
  {
   "cell_type": "markdown",
   "metadata": {},
   "source": [
    "The lower bound of IVFS is the rule we already have from Step 1. The upper bound of IVFS will be the one shown in the graph. However, instead of altering or construct a new rbs structure, we will make a new mu_table to handle the interval problem"
   ]
  },
  {
   "cell_type": "code",
   "execution_count": 33,
   "metadata": {},
   "outputs": [
    {
     "data": {
      "text/plain": [
       ":generate_mu_iv_table"
      ]
     },
     "execution_count": 33,
     "metadata": {},
     "output_type": "execute_result"
    }
   ],
   "source": [
    "def mu_iv x, ante, w\n",
    "  f = ante[\"feature\"]\n",
    "  mid = ante[\"mid\"]\n",
    "  base = ante[\"base\"]\n",
    "  v = x[\"features\"][f]\n",
    "  puts \"gaga\" if v == \"\"  \n",
    "  mem = 1.0 - ((v - (mid + w * ante[\"base\"])).to_f * 2 / base).abs\n",
    "  mem_up = 1.0 - ((v - (mid + w * ante[\"base\"])).to_f * 2 / (base*1.5)).abs\n",
    "  return [0.0, mem].max, [0.0, mem_up].max\n",
    "end\n",
    "\n",
    "def generate_mu_iv_table data, ffs, w\n",
    "  mu_table = Hash.new\n",
    "  # Initialize the rules\n",
    "  ffs.each do |fs|\n",
    "    (0..1).each do |cl|\n",
    "      header = fs[\"feature\"].to_s + \"_\" + fs[\"set\"].to_s\n",
    "      mu_table[header] = Hash.new\n",
    "      data.each do |x|\n",
    "        v = x[\"features\"][fs[\"feature\"]]\n",
    "        if !mu_table[header].key?(v) and v != \"\" and !v.nil?\n",
    "          mu_table[header][v] = Hash.new         \n",
    "          mu_table[header][v][\"lo\"], mu_table[header][v][\"hi\"] = (mu_iv x, fs, w[header])\n",
    "        end\n",
    "      end\n",
    "    end\n",
    "  end\n",
    "  return mu_table\n",
    "end"
   ]
  },
  {
   "cell_type": "code",
   "execution_count": 34,
   "metadata": {},
   "outputs": [
    {
     "name": "stdout",
     "output_type": "stream",
     "text": [
      "Initialize mu table\n",
      "Mu table initialization complete\n"
     ]
    }
   ],
   "source": [
    "ffs = feature_fuzzy_sets data, 5\n",
    "  \n",
    "puts \"Initialize mu table\"\n",
    "mu_iv_table = generate_mu_iv_table data, ffs, w0\n",
    "puts \"Mu table initialization complete\""
   ]
  },
  {
   "cell_type": "markdown",
   "metadata": {},
   "source": [
    "### Step 4. $\\alpha$ Tuning(deprecated)"
   ]
  },
  {
   "cell_type": "markdown",
   "metadata": {},
   "source": [
    "![lfs](linguistic-fuzzy-sets.png)"
   ]
  },
  {
   "cell_type": "markdown",
   "metadata": {},
   "source": [
    "### Step 5. Evaluate IV-REFs\n",
    "IV-REFs is the interval-valued restricted function, it tells the similarity between two intervals, when we use this to compare with the ideal interval [1, 1], it gives the error of system which can be used to tune the weights, IV-REFs also has two paramters for tuning, which are a and b."
   ]
  },
  {
   "cell_type": "code",
   "execution_count": 35,
   "metadata": {},
   "outputs": [
    {
     "data": {
      "text/plain": [
       ":iv_refs"
      ]
     },
     "execution_count": 35,
     "metadata": {},
     "output_type": "execute_result"
    }
   ],
   "source": [
    "def iv_refs iv1, iv2\n",
    "end"
   ]
  },
  {
   "cell_type": "markdown",
   "metadata": {},
   "source": [
    "### Step 10.  IV-FRM, Calculate the Vote (example is covered in $RB$)\n",
    "\n",
    "$V_{class_{k}} (x_{p}) = f_{R_{j} \\in RB \\space and \\space C_{j} = k}(\\mu_{A_{j}}(x_{p}) * RW_{j})$\n",
    "\n",
    "Explanation:\n",
    "\n",
    "$V_{class_{k}} (x_{p})$ gives the score for $x_{p}$ given the rule set $RB$ and $class_k$.\n",
    "\n",
    "$\\mu_{A_{j}}(x_{p})$ gives the memembership/reliability of applying $R_{j}$ to the data instance $x_{p}$, $RW_{j}$ defines the weight of $R_{j}$\n",
    "\n",
    "$f$ is the aggregation function, which can be either maximum or summation."
   ]
  },
  {
   "cell_type": "code",
   "execution_count": 36,
   "metadata": {},
   "outputs": [
    {
     "data": {
      "text/plain": [
       ":predict_iv"
      ]
     },
     "execution_count": 36,
     "metadata": {},
     "output_type": "execute_result"
    }
   ],
   "source": [
    "def predict x, rb, mu_table\n",
    "  votes = Hash.new { |h,k| h[k] = 0.0 }\n",
    "  (0..1).each do |cl|\n",
    "    rb.each do |r|\n",
    "      next if r[\"class\"] != cl\n",
    "      r[\"antecedent\"].each do |ante|\n",
    "        v = x[\"features\"][ante[\"feature\"]]\n",
    "        next if v.nil? or v == \"\"\n",
    "        header = ante[\"feature\"].to_s + \"_\" + ante[\"set\"].to_s\n",
    "        votes[cl] += r[\"support\"] * r[\"confidence\"] * mu_table[header][v]\n",
    "      end\n",
    "    end\n",
    "  end\n",
    "  return votes\n",
    "end\n",
    "\n",
    "def predict_iv x, rb, mu_table\n",
    "  votes = Hash.new { |h,k| h[k] = 0.0 }\n",
    "  (0..1).each do |cl|\n",
    "    rb.each do |r|\n",
    "      next if r[\"class\"] != cl\n",
    "      r[\"antecedent\"].each do |ante|\n",
    "        v = x[\"features\"][ante[\"feature\"]]\n",
    "        next if v.nil? or v == \"\"\n",
    "        header = ante[\"feature\"].to_s + \"_\" + ante[\"set\"].to_s\n",
    "        votes[cl] += r[\"support\"] * r[\"confidence\"] * \n",
    "        ( 1 - ( mu_table[header][v][\"hi\"] - mu_table[header][v][\"lo\"] ) ) *  mu_table[header][v][\"hi\"]\n",
    "      end\n",
    "    end\n",
    "  end\n",
    "  return votes\n",
    "end"
   ]
  },
  {
   "cell_type": "code",
   "execution_count": 37,
   "metadata": {},
   "outputs": [
    {
     "data": {
      "text/plain": [
       "1"
      ]
     },
     "execution_count": 37,
     "metadata": {},
     "output_type": "execute_result"
    }
   ],
   "source": [
    "rbs_target = rbs\n",
    "1"
   ]
  },
  {
   "cell_type": "code",
   "execution_count": 38,
   "metadata": {},
   "outputs": [
    {
     "data": {
      "text/plain": [
       "{0=>6.5614393522244, 1=>0.07618830961558865}"
      ]
     },
     "execution_count": 38,
     "metadata": {},
     "output_type": "execute_result"
    }
   ],
   "source": [
    "x = data[0]\n",
    "p = predict x, rbs_target, mu_table"
   ]
  },
  {
   "cell_type": "code",
   "execution_count": 39,
   "metadata": {},
   "outputs": [
    {
     "name": "stdout",
     "output_type": "stream",
     "text": [
      "{\"0\"=>{\"0\"=>141379, \"1\"=>12369}, \"1\"=>{\"0\"=>7, \"1\"=>0}}\n",
      "[1.1686140827535838, 1.0838295543152674, 1.0738268527781354, 1.0285270459817608, 1.0271900287854425, 1.0165451838134416, 1.013275638805112, 0.9954964456980429, 0.9856748176530624, 0.982366577132025]\n"
     ]
    },
    {
     "data": {
      "text/plain": [
       "1"
      ]
     },
     "execution_count": 39,
     "metadata": {},
     "output_type": "execute_result"
    }
   ],
   "source": [
    "# now it's the time to do actual predictions\n",
    "predictions = []\n",
    "l = data.length/2\n",
    "train = data.shuffle[0, l]\n",
    "# l = 20\n",
    "\n",
    "train.each.with_index do |x, i|\n",
    "  total = 0.0\n",
    "#   s = predict x, rbs_target, mu_table\n",
    "  s = predict x, rbs_target, mu_table\n",
    "  s[0] = s[0] * 0.015\n",
    "  max = [s[0], s[1]].max\n",
    "  predictions << { s.key(max) => s[0] == 0.0 ? 100.0 : s[1] / s[0] }\n",
    "end\n",
    "\n",
    "m = confusion_matrix(%w(0 1), train, predictions)\n",
    "puts m\n",
    "scores = predictions.collect{ |k| k.values[0] }.uniq.sort.reverse\n",
    "puts scores[0, 10]\n",
    "1"
   ]
  },
  {
   "cell_type": "code",
   "execution_count": 40,
   "metadata": {},
   "outputs": [
    {
     "name": "stdout",
     "output_type": "stream",
     "text": [
      "153755\n",
      "154\n"
     ]
    }
   ],
   "source": [
    "puts scores.length\n",
    "scores_limited = scores.select.with_index {|x, i| i % 1000 == 0}\n",
    "puts scores_limited.length"
   ]
  },
  {
   "cell_type": "code",
   "execution_count": 41,
   "metadata": {},
   "outputs": [
    {
     "data": {
      "text/plain": [
       "0.5716803293154914"
      ]
     },
     "execution_count": 41,
     "metadata": {},
     "output_type": "execute_result"
    }
   ],
   "source": [
    "scores_limited[15]"
   ]
  },
  {
   "cell_type": "code",
   "execution_count": 42,
   "metadata": {},
   "outputs": [
    {
     "name": "stdout",
     "output_type": "stream",
     "text": [
      "[0.0, 0.005276335705091027, 0.01039706901673433, 0.01586437129560211, 0.02128216372200925, 0.026742393164811227, 0.03226627813220545, 0.03787503713238934, 0.043363557919454544, 0.04903597244423069]\n",
      "[0.0, 0.02053520899021748, 0.04284905812919395, 0.06120139057320721, 0.08011965397364379, 0.0985528336971461, 0.116258387905247, 0.13299377475947935, 0.15110356536502548, 0.16711132670385642]\n"
     ]
    },
    {
     "data": {
      "text/html": [
       "<div id='vis-8051fa97-6d0c-49af-9767-b46a3116e22f'></div>\n",
       "<script>\n",
       "(function(){\n",
       "    var render = function(){\n",
       "        var model = {\"panes\":[{\"diagrams\":[{\"type\":\"line\",\"options\":{\"x\":\"x\",\"y\":\"y\"},\"data\":\"3a0923ce-3798-4fbb-9a29-d5fc20c48404\"}],\"options\":{\"x_label\":\"X\",\"y_label\":\"Y\",\"zoom\":true,\"width\":700,\"xrange\":[0.0,1.0],\"yrange\":[0.0,1.0]}}],\"data\":{\"3a0923ce-3798-4fbb-9a29-d5fc20c48404\":[{\"x\":0.0,\"y\":0.0},{\"x\":0.005276335705091027,\"y\":0.02053520899021748},{\"x\":0.01039706901673433,\"y\":0.04284905812919395},{\"x\":0.01586437129560211,\"y\":0.06120139057320721},{\"x\":0.02128216372200925,\"y\":0.08011965397364379},{\"x\":0.026742393164811227,\"y\":0.0985528336971461},{\"x\":0.03226627813220545,\"y\":0.116258387905247},{\"x\":0.03787503713238934,\"y\":0.13299377475947935},{\"x\":0.043363557919454544,\"y\":0.15110356536502548},{\"x\":0.04903597244423069,\"y\":0.16711132670385642},{\"x\":0.05468009562474361,\"y\":0.18344247716064355},{\"x\":0.06031714596919072,\"y\":0.1998544748969197},{\"x\":0.06622296408413846,\"y\":0.21319427601261218},{\"x\":0.07200147114990169,\"y\":0.22798932815910744},{\"x\":0.07782241523205975,\"y\":0.24229929662866845},{\"x\":0.08369994200274426,\"y\":0.2559624868623171},{\"x\":0.08957746877342877,\"y\":0.26962567709596574},{\"x\":0.09542670419985005,\"y\":0.28361225644757054},{\"x\":0.10131130380660038,\"y\":0.29719459940173015},{\"x\":0.10736565147893003,\"y\":0.30883660764815263},{\"x\":0.11334927079060161,\"y\":0.3212870886894656},{\"x\":0.11946020115145771,\"y\":0.33228231869997576},{\"x\":0.1254367476270635,\"y\":0.34481364702077777},{\"x\":0.13163255202070925,\"y\":0.3548387096774194},{\"x\":0.1377859193979602,\"y\":0.3653488560109952},{\"x\":0.14388977692275048,\"y\":0.3764249333009944},{\"x\":0.15007850848033044,\"y\":0.38653084323712505},{\"x\":0.15622480302151556,\"y\":0.39712183685019},{\"x\":0.16243475308729294,\"y\":0.4069852049478535},{\"x\":0.16868006733339935,\"y\":0.4164443366480718},{\"x\":0.1750102556122954,\"y\":0.42493330099442156},{\"x\":0.18131215254692826,\"y\":0.4337456544587275},{\"x\":0.18742308290778437,\"y\":0.4447408844692376},{\"x\":0.19378156253094367,\"y\":0.45290645969763116},{\"x\":0.20016833349836619,\"y\":0.46074864580806857},{\"x\":0.2064560847608674,\"y\":0.46972269383135257},{\"x\":0.21294187543321122,\"y\":0.47643301802894333},{\"x\":0.21914475266292277,\"y\":0.4863772334060959},{\"x\":0.2255173779582137,\"y\":0.4943811140755114},{\"x\":0.23195365877809684,\"y\":0.5016573692295254},{\"x\":0.23834750258158516,\"y\":0.5094187080604737},{\"x\":0.24469183653261284,\"y\":0.5177459778478454},{\"x\":0.2510361704836405,\"y\":0.5260732476352171},{\"x\":0.25742294145106304,\"y\":0.5339154337456544},{\"x\":0.2638380037627488,\"y\":0.5414342307381357},{\"x\":0.2703379401072242,\"y\":0.5479828603767484},{\"x\":0.2767459295828441,\"y\":0.5555825046487186},{\"x\":0.2831963560748589,\"y\":0.5626970652437545},{\"x\":0.28963263689474206,\"y\":0.5699733203977686},{\"x\":0.296040626370362,\"y\":0.5775729646697388},{\"x\":0.3025122713705742,\"y\":0.5844449834263077},{\"x\":0.3089485521904573,\"y\":0.5917212385803218},{\"x\":0.3155262897316566,\"y\":0.597380548144555},{\"x\":0.322026226076132,\"y\":0.6039291777831676},{\"x\":0.32845543405994937,\"y\":0.6112862802166708},{\"x\":0.3348634235355693,\"y\":0.618885924488641},{\"x\":0.34141994256857117,\"y\":0.6247877758913413},{\"x\":0.3480047529458362,\"y\":0.6303662381760854},{\"x\":0.3546037089952329,\"y\":0.6357830059018514},{\"x\":0.3611602280282348,\"y\":0.6416848573045517},{\"x\":0.36764601870057856,\"y\":0.6483951815021425},{\"x\":0.37422375624177784,\"y\":0.6540544910663756},{\"x\":0.3806741827337926,\"y\":0.6611690516614116},{\"x\":0.38722362893072865,\"y\":0.667151750343601},{\"x\":0.3937872207997963,\"y\":0.6729727544668122},{\"x\":0.40023764729181105,\"y\":0.6800873150618482},{\"x\":0.40682245766907615,\"y\":0.6856657773465923},{\"x\":0.41343555939060445,\"y\":0.6909208505133803},{\"x\":0.4199708599154089,\"y\":0.6970652437545477},{\"x\":0.42656274312873976,\"y\":0.7025628587598027},{\"x\":0.4331970633584655,\"y\":0.7075753900881235},{\"x\":0.43989503911278344,\"y\":0.7118602959010429},{\"x\":0.4464303396375879,\"y\":0.7180046891422104},{\"x\":0.45305758703124777,\"y\":0.7230980677500202},{\"x\":0.4597343442773683,\"y\":0.7276255154014067},{\"x\":0.4663120818185676,\"y\":0.73328482496564},{\"x\":0.47288981935976687,\"y\":0.7389441345298731},{\"x\":0.47950292108129516,\"y\":0.744199207696661},{\"x\":0.4861443141470867,\"y\":0.7491308917454927},{\"x\":0.492792780048944,\"y\":0.7539817285148355},{\"x\":0.4994624644589988,\"y\":0.758590023445711},{\"x\":0.5060755661805271,\"y\":0.763845096612499},{\"x\":0.5127311049184502,\"y\":0.7686150861023526},{\"x\":0.5194432263448998,\"y\":0.772738297356294},{\"x\":0.5259785268697043,\"y\":0.7788826905974614},{\"x\":0.5325138273945087,\"y\":0.7850270838386288},{\"x\":0.5391764389684975,\"y\":0.7897162260489935},{\"x\":0.5459097789031446,\"y\":0.7935968954644677},{\"x\":0.5525158077886071,\"y\":0.7989328159107446},{\"x\":0.5591854921986619,\"y\":0.8035411108416202},{\"x\":0.565841030936585,\"y\":0.8083111003314738},{\"x\":0.5724965696745081,\"y\":0.8130810898213275},{\"x\":0.579159181248497,\"y\":0.8177702320316921},{\"x\":0.5857652101339595,\"y\":0.8231061524779691},{\"x\":0.5925056229046723,\"y\":0.8269059746139542},{\"x\":0.5992743270196483,\"y\":0.8303824076319832},{\"x\":0.6060288854624928,\"y\":0.8340205352089902},{\"x\":0.6127622253971398,\"y\":0.8379012046244644},{\"x\":0.6195238566760499,\"y\":0.8414584849219824},{\"x\":0.626292560791026,\"y\":0.8449349179400113},{\"x\":0.6330895562502652,\"y\":0.8480879618400841},{\"x\":0.639829969020978,\"y\":0.8518877839760692},{\"x\":0.6465208719392302,\"y\":0.8562535370684776},{\"x\":0.6532895760542062,\"y\":0.8597299700865065},{\"x\":0.6600512073331164,\"y\":0.8632872503840245},{\"x\":0.6667845472677635,\"y\":0.8671679197994987},{\"x\":0.6735744698909368,\"y\":0.8704018109790606},{\"x\":0.6803502468419786,\"y\":0.8737973967176005},{\"x\":0.6871189509569547,\"y\":0.8772738297356294},{\"x\":0.6938522908916017,\"y\":0.8811544991511036},{\"x\":0.7007058690393674,\"y\":0.883660764815264},{\"x\":0.7075099373346725,\"y\":0.8867329614358477},{\"x\":0.7143281513021091,\"y\":0.8896434634974533},{\"x\":0.7210190542203613,\"y\":0.8940092165898618},{\"x\":0.7278514138599296,\"y\":0.8967580240924893},{\"x\":0.7345776809585107,\"y\":0.9007195407874525},{\"x\":0.7413534579095525,\"y\":0.9041151265259924},{\"x\":0.7481575262048576,\"y\":0.9071873231465761},{\"x\":0.754912084647702,\"y\":0.9108254507235831},{\"x\":0.7617090801069413,\"y\":0.9139784946236559},{\"x\":0.7685343669104437,\"y\":0.9168081494057725},{\"x\":0.7752747796811565,\"y\":0.9206079715417577},{\"x\":0.782100066484659,\"y\":0.9234376263238742},{\"x\":0.7889182804520957,\"y\":0.9263481283854799},{\"x\":0.7957577129277298,\"y\":0.9290160886086183},{\"x\":0.8025688540591006,\"y\":0.932007437949713},{\"x\":0.8094365778789979,\"y\":0.9343520090548953},{\"x\":0.816311374534961,\"y\":0.9366157328805885},{\"x\":0.8231649526827267,\"y\":0.939121998544749},{\"x\":0.8300185308304924,\"y\":0.9416282642089093},{\"x\":0.8368721089782581,\"y\":0.9441345298730698},{\"x\":0.843718614289958,\"y\":0.9467216428167192},{\"x\":0.8505297554213288,\"y\":0.9497129921578139},{\"x\":0.8573550422248313,\"y\":0.9525426469399305},{\"x\":0.8642015475365312,\"y\":0.95512975988358},{\"x\":0.8710621985203627,\"y\":0.9575551782682513},{\"x\":0.8779511408484574,\"y\":0.9596572075349664},{\"x\":0.8848188646683547,\"y\":0.9620017786401488},{\"x\":0.891615860127594,\"y\":0.9651548225402216},{\"x\":0.8983916370786358,\"y\":0.9685504082787614},{\"x\":0.9052522880624673,\"y\":0.9709758266634327},{\"x\":0.9120705020299039,\"y\":0.9738863287250384},{\"x\":0.9190301727186567,\"y\":0.9751798851968632},{\"x\":0.9258908237024882,\"y\":0.9776053035815345},{\"x\":0.9327444018502539,\"y\":0.9801115692456949},{\"x\":0.9396757811947435,\"y\":0.9817285148354757},{\"x\":0.9465152136703775,\"y\":0.9843964750586143},{\"x\":0.9533900103263406,\"y\":0.9866601988843076},{\"x\":0.9603426081790276,\"y\":0.9880346026356213},{\"x\":0.9672386233431881,\"y\":0.9900557846228475},{\"x\":0.9740922014909539,\"y\":0.9925620502870078},{\"x\":0.9810094351633117,\"y\":0.9943406904357668},{\"x\":0.9879054503274723,\"y\":0.996361872422993},{\"x\":0.994829756835896,\"y\":0.9980596652922629},{\"x\":1.0,\"y\":1.0}]},\"extension\":[]}\n",
       "        var id_name = '#vis-8051fa97-6d0c-49af-9767-b46a3116e22f';\n",
       "        Nyaplot.core.parse(model, id_name);\n",
       "\n",
       "        require(['downloadable'], function(downloadable){\n",
       "          var svg = d3.select(id_name).select(\"svg\");\n",
       "\t  if(!svg.empty())\n",
       "\t    svg.call(downloadable().filename('fig'));\n",
       "\t});\n",
       "    };\n",
       "    if(window['Nyaplot']==undefined){\n",
       "        window.addEventListener('load_nyaplot', render, false);\n",
       "\treturn;\n",
       "    } else {\n",
       "       render();\n",
       "    }\n",
       "})();\n",
       "</script>\n"
      ],
      "text/plain": [
       "#<Nyaplot::Plot:0x000000003612f850 @properties={:diagrams=>[#<Nyaplot::Diagram:0x0000000035d47738 @properties={:type=>:line, :options=>{:x=>:x, :y=>:y}, :data=>\"3a0923ce-3798-4fbb-9a29-d5fc20c48404\"}, @xrange=[0.0, 1.0], @yrange=[0.0, 1.0]>], :options=>{:x_label=>\"X\", :y_label=>\"Y\", :zoom=>true, :width=>700, :xrange=>[0.0, 1.0], :yrange=>[0.0, 1.0]}}>"
      ]
     },
     "execution_count": 42,
     "metadata": {},
     "output_type": "execute_result"
    }
   ],
   "source": [
    "fprs, tprs = roc_curve train, predictions, scores_limited\n",
    "puts fprs[0, 10]\n",
    "puts tprs[0, 10]\n",
    "plot(fprs, tprs)"
   ]
  },
  {
   "cell_type": "code",
   "execution_count": 43,
   "metadata": {},
   "outputs": [
    {
     "data": {
      "text/plain": [
       "0.6917283732300815"
      ]
     },
     "execution_count": 43,
     "metadata": {},
     "output_type": "execute_result"
    }
   ],
   "source": [
    "auc fprs, tprs "
   ]
  },
  {
   "cell_type": "markdown",
   "metadata": {},
   "source": [
    "## IV prediciton"
   ]
  },
  {
   "cell_type": "code",
   "execution_count": 44,
   "metadata": {},
   "outputs": [
    {
     "data": {
      "text/plain": [
       "{0=>8.133535186997033, 1=>0.08810925372020774}"
      ]
     },
     "execution_count": 44,
     "metadata": {},
     "output_type": "execute_result"
    }
   ],
   "source": [
    "x = data[0]\n",
    "p = predict_iv x, rbs_target, mu_iv_table"
   ]
  },
  {
   "cell_type": "code",
   "execution_count": 45,
   "metadata": {},
   "outputs": [
    {
     "name": "stdout",
     "output_type": "stream",
     "text": [
      "{\"0\"=>{\"0\"=>141386, \"1\"=>12369}, \"1\"=>{\"0\"=>0, \"1\"=>0}}\n",
      "[0.012994695384979781, 0.012828565170477547, 0.01267131744435256, 0.012594073987328553, 0.012570252546990623, 0.012503670949391622, 0.012456034744269684, 0.012429789325083714, 0.012399999916028463, 0.012381186733746266]\n"
     ]
    },
    {
     "data": {
      "text/plain": [
       "1"
      ]
     },
     "execution_count": 45,
     "metadata": {},
     "output_type": "execute_result"
    }
   ],
   "source": [
    "# now it's the time to do actual predictions\n",
    "predictions = []\n",
    "l = data.length/2\n",
    "# l = 20\n",
    "\n",
    "train.each.with_index do |x, i|\n",
    "  total = 0.0\n",
    "  s = predict_iv x, rbs_target, mu_iv_table\n",
    "  max = [s[0], s[1]].max\n",
    "  predictions << { s.key(max) => s[0] == 0.0 ? 100.0 : s[1] / s[0] }\n",
    "end\n",
    "\n",
    "m = confusion_matrix(%w(0 1), train, predictions)\n",
    "puts m\n",
    "scores = predictions.collect{ |k| k.values[0] }.uniq.sort.reverse\n",
    "puts scores[0, 10]\n",
    "1"
   ]
  },
  {
   "cell_type": "code",
   "execution_count": 46,
   "metadata": {},
   "outputs": [
    {
     "name": "stdout",
     "output_type": "stream",
     "text": [
      "153755\n",
      "154\n"
     ]
    }
   ],
   "source": [
    "puts scores.length\n",
    "scores_limited = scores.select.with_index {|x, i| i % 1000 == 0}\n",
    "puts scores_limited.length"
   ]
  },
  {
   "cell_type": "code",
   "execution_count": 47,
   "metadata": {},
   "outputs": [
    {
     "name": "stdout",
     "output_type": "stream",
     "text": [
      "[0.0, 0.005170243164103943, 0.010262685131484022, 0.015432928295587964, 0.020900230574455746, 0.02652313524677125, 0.03191263632891517, 0.037464812640572616, 0.0429391877555062, 0.04850550973929526]\n",
      "[0.0, 0.021747918182553158, 0.04438515643948581, 0.06613307462203896, 0.08448540706605223, 0.1010590993613065, 0.12030075187969924, 0.13768291696984397, 0.15595440213436818, 0.1731748726655348]\n"
     ]
    },
    {
     "data": {
      "text/html": [
       "<div id='vis-17d4a804-d529-4de5-a66c-d3ce76bd84ee'></div>\n",
       "<script>\n",
       "(function(){\n",
       "    var render = function(){\n",
       "        var model = {\"panes\":[{\"diagrams\":[{\"type\":\"line\",\"options\":{\"x\":\"x\",\"y\":\"y\"},\"data\":\"97b9d878-d425-4877-b8ab-437e67b16a9e\"}],\"options\":{\"x_label\":\"X\",\"y_label\":\"Y\",\"zoom\":true,\"width\":700,\"xrange\":[0.0,1.0],\"yrange\":[0.0,1.0]}}],\"data\":{\"97b9d878-d425-4877-b8ab-437e67b16a9e\":[{\"x\":0.0,\"y\":0.0},{\"x\":0.005170243164103943,\"y\":0.021747918182553158},{\"x\":0.010262685131484022,\"y\":0.04438515643948581},{\"x\":0.015432928295587964,\"y\":0.06613307462203896},{\"x\":0.020900230574455746,\"y\":0.08448540706605223},{\"x\":0.02652313524677125,\"y\":0.1010590993613065},{\"x\":0.03191263632891517,\"y\":0.12030075187969924},{\"x\":0.037464812640572616,\"y\":0.13768291696984397},{\"x\":0.0429391877555062,\"y\":0.15595440213436818},{\"x\":0.04850550973929526,\"y\":0.1731748726655348},{\"x\":0.0541708514280056,\"y\":0.1892634812838548},{\"x\":0.05987155729704497,\"y\":0.20494785350472958},{\"x\":0.06569957421526884,\"y\":0.21917697469480152},{\"x\":0.07150637262529529,\"y\":0.2336486377233406},{\"x\":0.0772565883467953,\"y\":0.24876707898779207},{\"x\":0.08313411511747981,\"y\":0.2624302692214407},{\"x\":0.08897627770783528,\"y\":0.2764976958525346},{\"x\":0.09494575134737528,\"y\":0.28910987145282563},{\"x\":0.10084449662625719,\"y\":0.3025305198480071},{\"x\":0.10682104310186298,\"y\":0.3150618481688091},{\"x\":0.1128329537577978,\"y\":0.3271889400921659},{\"x\":0.1188165730694694,\"y\":0.33963942113347884},{\"x\":0.1249416491024571,\"y\":0.35047295658501093},{\"x\":0.13102428811904998,\"y\":0.36179157571347725},{\"x\":0.13719180116843252,\"y\":0.372140027488075},{\"x\":0.14345833392273633,\"y\":0.3813566173498262},{\"x\":0.14956219144752664,\"y\":0.3924326946398254},{\"x\":0.15570141315264593,\"y\":0.40310453553237935},{\"x\":0.16204574710367364,\"y\":0.411431805319751},{\"x\":0.16820618731699036,\"y\":0.42186110437383784},{\"x\":0.17445150156309677,\"y\":0.4313202360740561},{\"x\":0.1806048689403477,\"y\":0.441830382407632},{\"x\":0.18690676587498056,\"y\":0.4506427358719379},{\"x\":0.19317329862928437,\"y\":0.45985932573368904},{\"x\":0.19948934123604883,\"y\":0.4685099846390169},{\"x\":0.20577001966248426,\"y\":0.47756487994179},{\"x\":0.21208606226924873,\"y\":0.48621553884711777},{\"x\":0.21835966785961836,\"y\":0.4953512814293799},{\"x\":0.22471107464671183,\"y\":0.5035977039372626},{\"x\":0.23118271964692402,\"y\":0.5104697226938314},{\"x\":0.23755534494221492,\"y\":0.5184736033632469},{\"x\":0.2440269899424271,\"y\":0.5253456221198156},{\"x\":0.25035010538525737,\"y\":0.5339154337456544},{\"x\":0.2567439491887457,\"y\":0.5416767725766028},{\"x\":0.26313072015616823,\"y\":0.5495189586870401},{\"x\":0.2695740738121172,\"y\":0.5567143665615653},{\"x\":0.27601035463200035,\"y\":0.5639906217155792},{\"x\":0.2824749267961467,\"y\":0.5709434877516372},{\"x\":0.2888899891078325,\"y\":0.5784622847441183},{\"x\":0.29535456127197884,\"y\":0.5854151507801763},{\"x\":0.3019322988131781,\"y\":0.5910744603444094},{\"x\":0.30838979814125866,\"y\":0.5981081736599564},{\"x\":0.3149463171742605,\"y\":0.6040100250626567},{\"x\":0.32147454486299915,\"y\":0.6102352655833131},{\"x\":0.3279815540435404,\"y\":0.6167030479424367},{\"x\":0.33438954351916034,\"y\":0.624302692214407},{\"x\":0.34095313538822797,\"y\":0.6301236963376182},{\"x\":0.34741063471630856,\"y\":0.6371574096531651},{\"x\":0.35391057106078394,\"y\":0.6437060392917778},{\"x\":0.3604105074052594,\"y\":0.6502546689303905},{\"x\":0.3668538610612083,\"y\":0.6574500768049155},{\"x\":0.37352354547126304,\"y\":0.6620583717357911},{\"x\":0.3800093361436069,\"y\":0.6687686959333818},{\"x\":0.3865375638323455,\"y\":0.6749939364540383},{\"x\":0.3931506655538738,\"y\":0.6802490096208262},{\"x\":0.39969303891474406,\"y\":0.6863125555825047},{\"x\":0.4062637036198775,\"y\":0.6920527124262269},{\"x\":0.4127707128004187,\"y\":0.6985204947853505},{\"x\":0.41939088735801283,\"y\":0.7036947206726494},{\"x\":0.4259615520631463,\"y\":0.7094348775163716},{\"x\":0.43253928960434557,\"y\":0.7150941870806048},{\"x\":0.43916653699800545,\"y\":0.7201875656884146},{\"x\":0.445807930063797,\"y\":0.7251192497372464},{\"x\":0.4523715219328646,\"y\":0.7309402538604576},{\"x\":0.45901291499865615,\"y\":0.7358719379092894},{\"x\":0.4656613809005135,\"y\":0.740722774678632},{\"x\":0.47226033694991015,\"y\":0.7461395424043981},{\"x\":0.47889465717963586,\"y\":0.7511520737327189},{\"x\":0.4855431230814932,\"y\":0.7560029105020616},{\"x\":0.4921350062948241,\"y\":0.7615005255073167},{\"x\":0.4987834721966814,\"y\":0.7663513622766593},{\"x\":0.5054177924264072,\"y\":0.7713638936049801},{\"x\":0.5120591854921986,\"y\":0.776295577653812},{\"x\":0.5186935057219244,\"y\":0.7813081089821328},{\"x\":0.5253348987877159,\"y\":0.7862397930309645},{\"x\":0.53195507334531,\"y\":0.7914140189182634},{\"x\":0.538617684919299,\"y\":0.796103161128628},{\"x\":0.5452873693293537,\"y\":0.8007114560595036},{\"x\":0.5520065635918691,\"y\":0.8047538200339559},{\"x\":0.5586196653133974,\"y\":0.8100088932007438},{\"x\":0.5652044756906625,\"y\":0.8155873554854879},{\"x\":0.5718529415925198,\"y\":0.8204381922548306},{\"x\":0.5786075000353642,\"y\":0.8240763198318377},{\"x\":0.585383276986406,\"y\":0.8274719055703775},{\"x\":0.5920246700521975,\"y\":0.8324035896192093},{\"x\":0.5987863013311078,\"y\":0.8359608699167274},{\"x\":0.6055550054460838,\"y\":0.8394373029347563},{\"x\":0.6123024910528624,\"y\":0.8431562777912524},{\"x\":0.6190924136760358,\"y\":0.8463901689708141},{\"x\":0.6258257536106828,\"y\":0.8502708383862883},{\"x\":0.6326227490699221,\"y\":0.853423882286361},{\"x\":0.6393702346767006,\"y\":0.8571428571428571},{\"x\":0.6461530844638083,\"y\":0.860457595601908},{\"x\":0.6529642255951792,\"y\":0.8634489449430026},{\"x\":0.6597329297101552,\"y\":0.8669253779610316},{\"x\":0.6664874881529996,\"y\":0.8705635055380386},{\"x\":0.6732491194319098,\"y\":0.8741207858355566},{\"x\":0.6799753865304909,\"y\":0.8780823025305199},{\"x\":0.6867157993012037,\"y\":0.881882124666505},{\"x\":0.6934703577440482,\"y\":0.885520252243512},{\"x\":0.7002885717114848,\"y\":0.8884307543051176},{\"x\":0.7070572758264609,\"y\":0.8919071873231466},{\"x\":0.7138471984496343,\"y\":0.8951410785027084},{\"x\":0.7207149222695316,\"y\":0.8974856496078907},{\"x\":0.7274624078763102,\"y\":0.9012046244643868},{\"x\":0.7342452576634179,\"y\":0.9045193629234376},{\"x\":0.7410068889423281,\"y\":0.9080766432209556},{\"x\":0.7478038844015673,\"y\":0.9112296871210284},{\"x\":0.754586734188675,\"y\":0.9145444255800792},{\"x\":0.7614261666643091,\"y\":0.9172123858032177},{\"x\":0.7682302349596141,\"y\":0.9202845824238014},{\"x\":0.775076740271314,\"y\":0.9228716953674508},{\"x\":0.781880808566619,\"y\":0.9259438919880346},{\"x\":0.7886212213373318,\"y\":0.9297437141240197},{\"x\":0.7954465081408343,\"y\":0.9325733689061363},{\"x\":0.8022647221082709,\"y\":0.9354838709677419},{\"x\":0.8092173199609579,\"y\":0.9368582747190557},{\"x\":0.816056752436592,\"y\":0.9395262349421942},{\"x\":0.8229315490925552,\"y\":0.9417899587678875},{\"x\":0.8297639087321234,\"y\":0.944538766270515},{\"x\":0.8366457782241523,\"y\":0.9467216428167192},{\"x\":0.843499356371918,\"y\":0.9492279084808796},{\"x\":0.8502963518311573,\"y\":0.9523809523809523},{\"x\":0.8571499299789229,\"y\":0.9548872180451128},{\"x\":0.8639964352906229,\"y\":0.9574743309887622},{\"x\":0.8708005035859279,\"y\":0.9605465276093459},{\"x\":0.877604571881233,\"y\":0.9636187242299297},{\"x\":0.8844864413732618,\"y\":0.9658016007761339},{\"x\":0.8913753837013566,\"y\":0.9679036300428491},{\"x\":0.8982431075212539,\"y\":0.9702482011480313},{\"x\":0.9051674140296776,\"y\":0.9719459940173013},{\"x\":0.9120634291938381,\"y\":0.9739671760045274},{\"x\":0.9189877357022619,\"y\":0.9756649688737974},{\"x\":0.925827168177896,\"y\":0.9783329290969359},{\"x\":0.9326948919977933,\"y\":0.9806775002021182},{\"x\":0.9396262713422828,\"y\":0.9822944457918991},{\"x\":0.946571796358904,\"y\":0.983749696822702},{\"x\":0.9534819571951961,\"y\":0.98560918425095},{\"x\":0.9603426081790276,\"y\":0.9880346026356213},{\"x\":0.9672315505071224,\"y\":0.9901366319023365},{\"x\":0.9741134199991512,\"y\":0.9923195084485407},{\"x\":0.9810094351633117,\"y\":0.9943406904357668},{\"x\":0.9879549601799329,\"y\":0.9957959414665697},{\"x\":0.9948368296719619,\"y\":0.9979788180127739},{\"x\":1.0,\"y\":1.0}]},\"extension\":[]}\n",
       "        var id_name = '#vis-17d4a804-d529-4de5-a66c-d3ce76bd84ee';\n",
       "        Nyaplot.core.parse(model, id_name);\n",
       "\n",
       "        require(['downloadable'], function(downloadable){\n",
       "          var svg = d3.select(id_name).select(\"svg\");\n",
       "\t  if(!svg.empty())\n",
       "\t    svg.call(downloadable().filename('fig'));\n",
       "\t});\n",
       "    };\n",
       "    if(window['Nyaplot']==undefined){\n",
       "        window.addEventListener('load_nyaplot', render, false);\n",
       "\treturn;\n",
       "    } else {\n",
       "       render();\n",
       "    }\n",
       "})();\n",
       "</script>\n"
      ],
      "text/plain": [
       "#<Nyaplot::Plot:0x00000000393206e8 @properties={:diagrams=>[#<Nyaplot::Diagram:0x0000000038ef00c8 @properties={:type=>:line, :options=>{:x=>:x, :y=>:y}, :data=>\"97b9d878-d425-4877-b8ab-437e67b16a9e\"}, @xrange=[0.0, 1.0], @yrange=[0.0, 1.0]>], :options=>{:x_label=>\"X\", :y_label=>\"Y\", :zoom=>true, :width=>700, :xrange=>[0.0, 1.0], :yrange=>[0.0, 1.0]}}>"
      ]
     },
     "execution_count": 47,
     "metadata": {},
     "output_type": "execute_result"
    }
   ],
   "source": [
    "fprs, tprs = roc_curve train, predictions, scores_limited\n",
    "puts fprs[0, 10]\n",
    "puts tprs[0, 10]\n",
    "plot(fprs, tprs)"
   ]
  },
  {
   "cell_type": "code",
   "execution_count": 48,
   "metadata": {},
   "outputs": [
    {
     "data": {
      "text/plain": [
       "0.697386025947156"
      ]
     },
     "execution_count": 48,
     "metadata": {},
     "output_type": "execute_result"
    }
   ],
   "source": [
    "auc fprs, tprs "
   ]
  },
  {
   "cell_type": "markdown",
   "metadata": {},
   "source": [
    "### Things need to be understood in list"
   ]
  },
  {
   "cell_type": "markdown",
   "metadata": {},
   "source": [
    "1. Type-1 Fuzzy Set - done\n",
    "2. Interval-Valued Fuzzy Set - \n",
    "3. Association Discovery classifier\n",
    "4. IV-REFs\n",
    "5. How to determine if a example is covered or not\n",
    "6. how to handle uncovered examples"
   ]
  },
  {
   "cell_type": "markdown",
   "metadata": {},
   "source": [
    "### Proposed Steps"
   ]
  },
  {
   "cell_type": "markdown",
   "metadata": {},
   "source": [
    "1. Type-1 Fuzzy Set Generations\n",
    "2. Rule Base Generation\n",
    "3. IVFSs Construction\n",
    "5. IVFRM - Interval-valued fuzzy reasoning method, basically predict the label\n",
    "6. tuning systm parameters"
   ]
  },
  {
   "cell_type": "markdown",
   "metadata": {},
   "source": [
    "### Explanation:\n",
    "1. IVFRM - Interval-valued fuzzy reasoning method, basically predict the labe"
   ]
  },
  {
   "cell_type": "code",
   "execution_count": 68,
   "metadata": {},
   "outputs": [
    {
     "name": "stdout",
     "output_type": "stream",
     "text": [
      "ok2"
     ]
    }
   ],
   "source": []
  },
  {
   "cell_type": "code",
   "execution_count": null,
   "metadata": {},
   "outputs": [],
   "source": []
  }
 ],
 "metadata": {
  "kernelspec": {
   "display_name": "Ruby 2.4.4",
   "language": "ruby",
   "name": "ruby"
  },
  "language_info": {
   "file_extension": ".rb",
   "mimetype": "application/x-ruby",
   "name": "ruby",
   "version": "2.4.4"
  }
 },
 "nbformat": 4,
 "nbformat_minor": 2
}
