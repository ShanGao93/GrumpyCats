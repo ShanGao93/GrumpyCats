{
 "cells": [
  {
   "cell_type": "code",
   "execution_count": 7,
   "metadata": {},
   "outputs": [
    {
     "name": "stderr",
     "output_type": "stream",
     "text": [
      "\n",
      "Install the spreadsheet gem version ~>1.1.1 for using spreadsheet functions.\n",
      "\n",
      "Install the mechanize gem version ~>2.7.5 for using mechanize functions.\n"
     ]
    },
    {
     "data": {
      "application/javascript": [
       "if(window['d3'] === undefined ||\n",
       "   window['Nyaplot'] === undefined){\n",
       "    var path = {\"d3\":\"https://cdnjs.cloudflare.com/ajax/libs/d3/3.5.5/d3.min\",\"downloadable\":\"http://cdn.rawgit.com/domitry/d3-downloadable/master/d3-downloadable\"};\n",
       "\n",
       "\n",
       "\n",
       "    var shim = {\"d3\":{\"exports\":\"d3\"},\"downloadable\":{\"exports\":\"downloadable\"}};\n",
       "\n",
       "    require.config({paths: path, shim:shim});\n",
       "\n",
       "\n",
       "require(['d3'], function(d3){window['d3']=d3;console.log('finished loading d3');require(['downloadable'], function(downloadable){window['downloadable']=downloadable;console.log('finished loading downloadable');\n",
       "\n",
       "\tvar script = d3.select(\"head\")\n",
       "\t    .append(\"script\")\n",
       "\t    .attr(\"src\", \"http://cdn.rawgit.com/domitry/Nyaplotjs/master/release/nyaplot.js\")\n",
       "\t    .attr(\"async\", true);\n",
       "\n",
       "\tscript[0][0].onload = script[0][0].onreadystatechange = function(){\n",
       "\n",
       "\n",
       "\t    var event = document.createEvent(\"HTMLEvents\");\n",
       "\t    event.initEvent(\"load_nyaplot\",false,false);\n",
       "\t    window.dispatchEvent(event);\n",
       "\t    console.log('Finished loading Nyaplotjs');\n",
       "\n",
       "\t};\n",
       "\n",
       "\n",
       "});});\n",
       "}\n"
      ],
      "text/plain": [
       "\"if(window['d3'] === undefined ||\\n   window['Nyaplot'] === undefined){\\n    var path = {\\\"d3\\\":\\\"https://cdnjs.cloudflare.com/ajax/libs/d3/3.5.5/d3.min\\\",\\\"downloadable\\\":\\\"http://cdn.rawgit.com/domitry/d3-downloadable/master/d3-downloadable\\\"};\\n\\n\\n\\n    var shim = {\\\"d3\\\":{\\\"exports\\\":\\\"d3\\\"},\\\"downloadable\\\":{\\\"exports\\\":\\\"downloadable\\\"}};\\n\\n    require.config({paths: path, shim:shim});\\n\\n\\nrequire(['d3'], function(d3){window['d3']=d3;console.log('finished loading d3');require(['downloadable'], function(downloadable){window['downloadable']=downloadable;console.log('finished loading downloadable');\\n\\n\\tvar script = d3.select(\\\"head\\\")\\n\\t    .append(\\\"script\\\")\\n\\t    .attr(\\\"src\\\", \\\"http://cdn.rawgit.com/domitry/Nyaplotjs/master/release/nyaplot.js\\\")\\n\\t    .attr(\\\"async\\\", true);\\n\\n\\tscript[0][0].onload = script[0][0].onreadystatechange = function(){\\n\\n\\n\\t    var event = document.createEvent(\\\"HTMLEvents\\\");\\n\\t    event.initEvent(\\\"load_nyaplot\\\",false,false);\\n\\t    window.dispatchEvent(event);\\n\\t    console.log('Finished loading Nyaplotjs');\\n\\n\\t};\\n\\n\\n});});\\n}\\n\""
      ]
     },
     "metadata": {},
     "output_type": "display_data"
    },
    {
     "data": {
      "text/plain": [
       "Object"
      ]
     },
     "execution_count": 7,
     "metadata": {},
     "output_type": "execute_result"
    }
   ],
   "source": [
    "require 'open-uri'\n",
    "require 'json'\n",
    "require 'daru'\n",
    "require 'distribution'\n",
    "require 'sqlite3'\n",
    "require 'rbplotly'\n",
    "require \"csv\"\n",
    "require './assignment'\n",
    "\n",
    "include Assignment"
   ]
  },
  {
   "cell_type": "code",
   "execution_count": 8,
   "metadata": {},
   "outputs": [
    {
     "data": {
      "text/plain": [
       "true"
      ]
     },
     "execution_count": 8,
     "metadata": {},
     "output_type": "execute_result"
    }
   ],
   "source": [
    "dir = \"#{ENV['HOME']}/cs6140/final_project\"\n",
    "db = SQLite3::Database.new \"#{dir}/credit_risk_data.db\"\n",
    "db.results_as_hash = true"
   ]
  },
  {
   "cell_type": "code",
   "execution_count": 9,
   "metadata": {},
   "outputs": [
    {
     "data": {
      "text/plain": [
       ":fetch_test_data"
      ]
     },
     "execution_count": 9,
     "metadata": {},
     "output_type": "execute_result"
    }
   ],
   "source": [
    "def fetch_train_data db, features, limit = true\n",
    "  table = \"application_train\"\n",
    "  query = \"select \" + features.join(\",\") + \", Target label from \" + table\n",
    "  query += \" order by RANDOM() limit 10000\" if limit\n",
    "  data = []\n",
    "  db.execute(query).each do |r|\n",
    "    row = Hash.new\n",
    "    row[\"features\"] = Hash.new\n",
    "    features.each do |f|\n",
    "      row[\"features\"][f] = r[f]\n",
    "    end\n",
    "    row[\"label\"] = r[\"label\"]\n",
    "    data << row\n",
    "  end\n",
    "  return data\n",
    "end\n",
    "\n",
    "\n",
    "def fetch_test_data db, features\n",
    "  features << \"SK_ID_CURR\"\n",
    "  table = \"application_test\"\n",
    "  query = \"select \" + features.join(\",\") + \" from \" + table\n",
    "  data = []\n",
    "  db.execute(query).each do |r|\n",
    "    row = Hash.new\n",
    "    row[\"features\"] = Hash.new\n",
    "    features.each do |f|\n",
    "      row[\"features\"][f] = r[f]\n",
    "    end\n",
    "    row[\"label\"] = r[\"label\"]\n",
    "    data << row\n",
    "  end\n",
    "  return data\n",
    "end"
   ]
  },
  {
   "cell_type": "markdown",
   "metadata": {},
   "source": [
    "## Step 2.  Actual Code"
   ]
  },
  {
   "cell_type": "code",
   "execution_count": 10,
   "metadata": {},
   "outputs": [
    {
     "data": {
      "text/plain": [
       ":min_supp"
      ]
     },
     "execution_count": 10,
     "metadata": {},
     "output_type": "execute_result"
    }
   ],
   "source": [
    "# return the minimum support in order to generate a rule\n",
    "def min_supp data, label, minsups\n",
    "  x_class = parse_class data\n",
    "  return minsups[label] * x_class[label].to_f / x_class.values.sum\n",
    "end"
   ]
  },
  {
   "cell_type": "code",
   "execution_count": 11,
   "metadata": {},
   "outputs": [
    {
     "data": {
      "text/plain": [
       ":feature_fuzzy_sets"
      ]
     },
     "execution_count": 11,
     "metadata": {},
     "output_type": "execute_result"
    }
   ],
   "source": [
    "# Generate the n-label linguistic fuzzy sets based on all possible features\n",
    "def feature_fuzzy_sets data, n\n",
    "  fs = []\n",
    "  h = data[0][\"features\"].keys\n",
    "  h.each do |f|\n",
    "    scores = data.collect {|x| x[\"features\"][f]}.select{ |x| x && x!= \"\" }.\n",
    "      sort.uniq\n",
    "    # 5-label fuzzy set\n",
    "    (0..(n-1)).each do |i|\n",
    "      max = scores.max\n",
    "      min = scores.min\n",
    "      # since min is 0 and max is 1, there will be only 4 gaps\n",
    "      base = (max - min).to_f / (n-1)\n",
    "      r = Hash.new\n",
    "      r[\"feature\"] = f\n",
    "      r[\"set\"] = i\n",
    "      r[\"mid\"] = min + base * i\n",
    "      r[\"base\"] = base * 2\n",
    "      fs << r\n",
    "    end\n",
    "  end\n",
    "  return fs\n",
    "end"
   ]
  },
  {
   "cell_type": "code",
   "execution_count": 12,
   "metadata": {},
   "outputs": [
    {
     "data": {
      "text/plain": [
       ":t_norm"
      ]
     },
     "execution_count": 12,
     "metadata": {},
     "output_type": "execute_result"
    }
   ],
   "source": [
    "def support data, antes, cl, mu_table\n",
    "  u = 0.0\n",
    "  data.each do |x|\n",
    "    next if x[\"label\"] != cl\n",
    "    mus = []\n",
    "    antes.each do |ante|\n",
    "      v = x[\"features\"][ante[\"feature\"]]\n",
    "      next if v.nil? or v == \"\"\n",
    "      header = ante[\"feature\"].to_s + \"_\" + ante[\"set\"].to_s\n",
    "      mu = mu_table[header][v]\n",
    "      mus << mu\n",
    "      # skip some iterations if we found one mu as 0.\n",
    "      break if mu == 0\n",
    "    end\n",
    "    u += t_norm mus if mus.length > 0\n",
    "  end\n",
    "  return u/data.length\n",
    "end\n",
    "\n",
    "def confidence data, antes, cl, mu_table\n",
    "  u = 0.0\n",
    "  d = 0.0\n",
    "  data.each do |x|\n",
    "    mus = []\n",
    "    antes.each do |ante|\n",
    "      v = x[\"features\"][ante[\"feature\"]]\n",
    "      next if v.nil? or v == \"\"\n",
    "      header = ante[\"feature\"].to_s + \"_\" + ante[\"set\"].to_s\n",
    "      mu = mu_table[header][v]\n",
    "      mus << mu\n",
    "      # skip some iterations if we found one mu as 0.\n",
    "      break if mu == 0\n",
    "    end\n",
    "    u += t_norm mus if x[\"label\"] == cl && mus.length > 0\n",
    "    d += t_norm mus if mus.length > 0\n",
    "  end\n",
    "  return u/d\n",
    "end\n",
    "\n",
    "def mu x, ante, w, negative_enabled = false\n",
    "  f = ante[\"feature\"]\n",
    "  mid = ante[\"mid\"]\n",
    "  base = ante[\"base\"]\n",
    "  v = x[\"features\"][f]\n",
    "  puts \"gaga\" if v == \"\" or v.nil?\n",
    "  mem = 1.0 - ((v - (mid + w * ante[\"base\"])).to_f * 2 / base).abs\n",
    "  return mem if negative_enabled\n",
    "  return [0.0, mem].max\n",
    "end\n",
    "\n",
    "# Calulate the t-normalization of a vecotr x, use either min or product t-norm\n",
    "def t_norm x\n",
    "  return x.min\n",
    "end\n",
    "\n",
    "def t_norm x\n",
    "  return x.reduce(:*)\n",
    "end"
   ]
  },
  {
   "cell_type": "code",
   "execution_count": 13,
   "metadata": {},
   "outputs": [
    {
     "data": {
      "text/plain": [
       ":generate_mu_table"
      ]
     },
     "execution_count": 13,
     "metadata": {},
     "output_type": "execute_result"
    }
   ],
   "source": [
    "def supp_prune rules, min_supp\n",
    "  return rules.select { |r| r[\"support\"] > min_supp}\n",
    "end\n",
    "\n",
    "def confi_prune rules\n",
    "  return rules.select { |r| r[\"confidence\"] > 0.0 and r[\"confidence\"] < 1.0 }\n",
    "end\n",
    "\n",
    "def generate_leaves data, last_leaves, first_fuzzy, mu_table, cl, log\n",
    "  leaves = []\n",
    "  leaves_names = []\n",
    "  puts \"\\t Last Leaves number \" + last_leaves.length.to_s if log\n",
    "  last_leaves.each.with_index do |rule1, i|\n",
    "    print \"Processing Leaf \" + i.to_s + \"\\r\"\n",
    "    f1 = rule1[\"antecedent\"].map { |r| r[\"feature\"] }\n",
    "    first_fuzzy.each do |rule2|\n",
    "      f2 = rule2[\"antecedent\"].map { |r| r[\"feature\"] }\n",
    "      total = (f1 + f2).uniq.length\n",
    "      \n",
    "      next if total < f1.length + f2.length\n",
    "      next if leaves_names.include? (f1 + f2) \n",
    "      \n",
    "      rule = Hash.new\n",
    "      rule[\"antecedent\"] = (rule1[\"antecedent\"] + rule2[\"antecedent\"])\n",
    "      rule[\"support\"] = support data, rule[\"antecedent\"], cl, mu_table\n",
    "      rule[\"confidence\"] = confidence data, rule[\"antecedent\"], cl, mu_table\n",
    "      rule[\"class\"] = cl\n",
    "      leaves << rule\n",
    "      leaves_names << f1 + f2\n",
    "    end\n",
    "  end\n",
    "  puts\n",
    "  return leaves\n",
    "end\n",
    "\n",
    "def generate_mu_table data, ffs, w\n",
    "  mu_table = Hash.new\n",
    "\n",
    "  # Initialize the rules\n",
    "  ffs.each do |fs|\n",
    "    (0..1).each do |cl|\n",
    "      header = fs[\"feature\"].to_s + \"_\" + fs[\"set\"].to_s\n",
    "      mu_table[header] = Hash.new\n",
    "      data.each do |x|\n",
    "        v = x[\"features\"][fs[\"feature\"]]\n",
    "        mu_table[header][v] = (mu x, fs, w[header]) if !mu_table[header].key?(v) and v != \"\" and !v.nil?\n",
    "      end\n",
    "    end\n",
    "  end\n",
    "  return mu_table\n",
    "end"
   ]
  },
  {
   "cell_type": "code",
   "execution_count": 14,
   "metadata": {},
   "outputs": [
    {
     "data": {
      "text/plain": [
       ":build_search_tree"
      ]
     },
     "execution_count": 14,
     "metadata": {},
     "output_type": "execute_result"
    }
   ],
   "source": [
    "# Build a search tree based on five-label fuzzy set\n",
    "def build_search_tree data, min_supps, max_lvl, n, w, log = true\n",
    "  # Generate the first layer of rules, getting all possible fuzzy sets by the 5-label linguistic rule\n",
    "  last_leaves = Hash.new { |h, k| h[k] = []}\n",
    "  first_ffs = Hash.new { |h, k| h[k] = []}\n",
    "  ffs = feature_fuzzy_sets data, n\n",
    "  \n",
    "  puts \"Initialize mu table\" if log\n",
    "  \n",
    "  mu_table = generate_mu_table data, ffs, w\n",
    "  \n",
    "  puts \"Mu table initialization complete\" if log\n",
    "  puts \"Generate first lvl of leaves\" if log\n",
    "  \n",
    "  ffs.each do |fs|\n",
    "    (0..1).each do |cl|\n",
    "      rule = Hash.new\n",
    "      rule[\"antecedent\"] = [fs]\n",
    "      rule[\"support\"] = support data, rule[\"antecedent\"], cl, mu_table\n",
    "      rule[\"confidence\"] = confidence data, rule[\"antecedent\"], cl, mu_table\n",
    "      rule[\"class\"] = cl\n",
    "      last_leaves[cl] << rule\n",
    "      first_ffs[cl] << rule\n",
    "    end\n",
    "  end\n",
    "  \n",
    "  rules = Hash.new { |h, k| h[k] = []}\n",
    " \n",
    "  (0..1).each do |cl|\n",
    "    curr_lvl = 0\n",
    "    print \"Genearte search tree for label \", cl, \"\\n\" if log\n",
    "    while true\n",
    "      curr_lvl += 1\n",
    "      print \"\\t lvl \", curr_lvl, \"\\n\" if log\n",
    "      first_ffs[cl] = (supp_prune first_ffs[cl], min_supps[cl]) if curr_lvl == 1\n",
    "      last_leaves[cl] = (supp_prune last_leaves[cl], min_supps[cl])\n",
    "\n",
    "      rules[cl] = last_leaves[cl]\n",
    "      break if curr_lvl >= max_lvl || last_leaves[cl].length <= 2\n",
    "      last_leaves[cl] = (confi_prune last_leaves[cl])\n",
    "      last_leaves[cl] = generate_leaves data, last_leaves[cl], first_ffs[cl], mu_table, cl, log\n",
    "    end\n",
    "  end\n",
    "  \n",
    "  return rules\n",
    "end"
   ]
  },
  {
   "cell_type": "code",
   "execution_count": 15,
   "metadata": {},
   "outputs": [
    {
     "data": {
      "text/plain": [
       ":generate_mu_iv_table"
      ]
     },
     "execution_count": 15,
     "metadata": {},
     "output_type": "execute_result"
    }
   ],
   "source": [
    "def mu_iv x, ante, w\n",
    "  f = ante[\"feature\"]\n",
    "  mid = ante[\"mid\"]\n",
    "  base = ante[\"base\"]\n",
    "  v = x[\"features\"][f]\n",
    "  puts \"gaga\" if v == \"\"  \n",
    "  mem = 1.0 - ((v - (mid + w * ante[\"base\"])).to_f * 2 / base).abs\n",
    "  mem_up = 1.0 - ((v - (mid + w * ante[\"base\"])).to_f * 2 / (base*1.5)).abs\n",
    "  return [0.0, mem].max, [0.0, mem_up].max\n",
    "end\n",
    "\n",
    "def generate_mu_iv_table data, ffs, w\n",
    "  mu_table = Hash.new\n",
    "  # Initialize the rules\n",
    "  ffs.each do |fs|\n",
    "    (0..1).each do |cl|\n",
    "      header = fs[\"feature\"].to_s + \"_\" + fs[\"set\"].to_s\n",
    "      mu_table[header] = Hash.new\n",
    "      data.each do |x|\n",
    "        v = x[\"features\"][fs[\"feature\"]]\n",
    "        if !mu_table[header].key?(v) and v != \"\" and !v.nil?\n",
    "          mu_table[header][v] = Hash.new         \n",
    "          mu_table[header][v][\"lo\"], mu_table[header][v][\"hi\"] = (mu_iv x, fs, w[header])\n",
    "        end\n",
    "      end\n",
    "    end\n",
    "  end\n",
    "  return mu_table\n",
    "end"
   ]
  },
  {
   "cell_type": "code",
   "execution_count": 16,
   "metadata": {},
   "outputs": [
    {
     "data": {
      "text/plain": [
       ":predict_iv"
      ]
     },
     "execution_count": 16,
     "metadata": {},
     "output_type": "execute_result"
    }
   ],
   "source": [
    "def predict_iv x, rbs\n",
    "  votes = Hash.new { |h,k| h[k] = 0.0 }\n",
    "  (0..1).each do |cl|\n",
    "    rbs.each do |r|\n",
    "      next if r[\"class\"] != cl\n",
    "      r[\"antecedent\"].each do |ante|\n",
    "        v = x[\"features\"][ante[\"feature\"]]\n",
    "        next if v.nil? or v == \"\"\n",
    "        header = ante[\"feature\"].to_s + \"_\" + ante[\"set\"].to_s\n",
    "        lo, hi = (mu_iv x, ante, 0.0)\n",
    "        votes[cl] += r[\"confidence\"] * ( hi + lo ) *  hi / r[\"support\"]\n",
    "      end\n",
    "    end\n",
    "  end\n",
    "  return votes\n",
    "end"
   ]
  },
  {
   "cell_type": "code",
   "execution_count": 17,
   "metadata": {},
   "outputs": [
    {
     "data": {
      "text/plain": [
       "1"
      ]
     },
     "execution_count": 17,
     "metadata": {},
     "output_type": "execute_result"
    }
   ],
   "source": [
    "# ffs = feature_fuzzy_sets data_fuzzy_train, 5\n",
    "  \n",
    "# puts \"Initialize mu table\"\n",
    "# mu_iv_table = generate_mu_iv_table data_fuzzy_train, ffs, w\n",
    "# puts \"Mu table initialization complete\"\n",
    "features_all = [\"EXT_SOURCE_3\", \"EXT_SOURCE_1\", \"EXT_SOURCE_2\", \"DAYS_BIRTH\", \"DAYS_LAST_PHONE_CHANGE\",  \n",
    "  \"AMT_GOODS_PRICE\", \"OWN_CAR_AGE\",  \"REG_CITY_NOT_WORK_CITY\", \"FLAG_EMP_PHONE\", \"REGION_RATING_CLIENT_W_CITY\",\n",
    "  \"DAYS_ID_PUBLISH\", \"REGION_RATING_CLIENT\", \"FLAG_DOCUMENT_3\", \"REG_CITY_NOT_LIVE_CITY\", \"REGION_POPULATION_RELATIVE\",\n",
    "  \"AMT_CREDIT\"]\n",
    "data_all = fetch_train_data db, features_all, false \n",
    "1"
   ]
  },
  {
   "cell_type": "code",
   "execution_count": null,
   "metadata": {},
   "outputs": [],
   "source": []
  },
  {
   "cell_type": "code",
   "execution_count": null,
   "metadata": {},
   "outputs": [],
   "source": []
  },
  {
   "cell_type": "code",
   "execution_count": null,
   "metadata": {},
   "outputs": [],
   "source": []
  },
  {
   "cell_type": "code",
   "execution_count": 49,
   "metadata": {},
   "outputs": [
    {
     "name": "stdout",
     "output_type": "stream",
     "text": [
      "Processing Leaf 11\n",
      "Processing Leaf 43\n",
      "Processing Leaf 10\n",
      "Processing Leaf 43\n",
      "Finish building model 1\n",
      "Processing Leaf 12\n",
      "Processing Leaf 29\n",
      "Processing Leaf 11\n",
      "Processing Leaf 21\n",
      "Finish building model 2\n",
      "Processing Leaf 11\n",
      "Processing Leaf 29\n",
      "Processing Leaf 13\n",
      "Processing Leaf 23\n",
      "Finish building model 3\n",
      "Processing Leaf 12\n",
      "Processing Leaf 45\n",
      "Processing Leaf 12\n",
      "Processing Leaf 29\n",
      "Finish building model 4\n",
      "Processing Leaf 11\n",
      "Processing Leaf 51\n",
      "Processing Leaf 9\n",
      "Processing Leaf 39\n",
      "Finish building model 5\n",
      "Processing Leaf 11\n",
      "Processing Leaf 41\n",
      "Processing Leaf 9\n",
      "Processing Leaf 29\n",
      "Finish building model 6\n",
      "Processing Leaf 11\n",
      "Processing Leaf 51\n",
      "Processing Leaf 9\n",
      "Processing Leaf 31\n",
      "Finish building model 7\n",
      "Processing Leaf 12\n",
      "Processing Leaf 51\n",
      "Processing Leaf 10\n",
      "Processing Leaf 35\n",
      "Finish building model 8\n",
      "Processing Leaf 11\n",
      "Processing Leaf 57\n",
      "Processing Leaf 9\n",
      "Processing Leaf 29\n",
      "Finish building model 9\n",
      "Processing Leaf 14\n",
      "Processing Leaf 35\n",
      "Processing Leaf 12\n",
      "Processing Leaf 19\n",
      "Finish building model 10\n",
      "Processing Leaf 15\n",
      "Processing Leaf 29\n",
      "Processing Leaf 12\n",
      "Processing Leaf 17\n",
      "Finish building model 11\n",
      "Processing Leaf 12\n",
      "Processing Leaf 69\n",
      "Processing Leaf 12\n",
      "Processing Leaf 51\n",
      "Finish building model 12\n",
      "Processing Leaf 12\n",
      "Processing Leaf 33\n",
      "Processing Leaf 10\n",
      "Processing Leaf 31\n",
      "Finish building model 13\n",
      "Processing Leaf 12\n",
      "Processing Leaf 35\n",
      "Processing Leaf 11\n",
      "Processing Leaf 21\n",
      "Finish building model 14\n",
      "Processing Leaf 12\n",
      "Processing Leaf 35\n",
      "Processing Leaf 12\n",
      "Processing Leaf 27\n",
      "Finish building model 15\n",
      "Processing Leaf 12\n",
      "Processing Leaf 65\n",
      "Processing Leaf 9\n",
      "Processing Leaf 39\n",
      "Finish building model 16\n",
      "Processing Leaf 13\n",
      "Processing Leaf 39\n",
      "Processing Leaf 10\n",
      "Processing Leaf 27\n",
      "Finish building model 17\n",
      "Processing Leaf 13\n",
      "Processing Leaf 41\n",
      "Processing Leaf 9\n",
      "Processing Leaf 27\n",
      "Finish building model 18\n",
      "Processing Leaf 10\n",
      "Processing Leaf 35\n",
      "Processing Leaf 10\n",
      "Processing Leaf 27\n",
      "Finish building model 19\n",
      "Processing Leaf 13\n",
      "Processing Leaf 29\n",
      "Processing Leaf 11\n",
      "Processing Leaf 29\n",
      "Finish building model 20\n"
     ]
    },
    {
     "data": {
      "text/plain": [
       "1"
      ]
     },
     "execution_count": 49,
     "metadata": {},
     "output_type": "execute_result"
    }
   ],
   "source": [
    "features_all = [\"EXT_SOURCE_3\", \"EXT_SOURCE_1\", \"EXT_SOURCE_2\", \"DAYS_BIRTH\", \"DAYS_LAST_PHONE_CHANGE\",  \"AMT_GOODS_PRICE\", \"OWN_CAR_AGE\", \n",
    "  \"REG_CITY_NOT_WORK_CITY\", \"FLAG_EMP_PHONE\", \"REGION_RATING_CLIENT_W_CITY\", \"DAYS_ID_PUBLISH\", \"REGION_RATING_CLIENT\", \"FLAG_DOCUMENT_3\",\n",
    "  \"REG_CITY_NOT_LIVE_CITY\", \"REGION_POPULATION_RELATIVE\", \"AMT_CREDIT\"]\n",
    "features_comb = (features_all.combination(3).to_a)\n",
    "n = 20\n",
    "w = Hash.new { |h,k| h[k] = 0.0 }\n",
    "rbss = []\n",
    "\n",
    "(1..n).each do |i|\n",
    "  #Randomly sampling 10000 instances\n",
    "  features = features_comb.sample\n",
    "  data = fetch_train_data db, features\n",
    "  \n",
    "  # calculate the minimum support\n",
    "  minsups = [0.1, 0.12]\n",
    "  min_supps = Hash.new\n",
    "  min_supps[0] = min_supp data, 0, minsups\n",
    "  min_supps[1] = min_supp data, 1, minsups\n",
    "  \n",
    "  # max lvl of the tree\n",
    "  max_lvl = 3\n",
    "  \n",
    "  rb = []\n",
    "  rb = build_search_tree data, min_supps, max_lvl, 5, w, false\n",
    "  rbs = rb[0] + rb[1]\n",
    "  rbss << rbs\n",
    "  puts \"Finish building model \" + i.to_s\n",
    "end\n",
    "1"
   ]
  },
  {
   "cell_type": "code",
   "execution_count": 12,
   "metadata": {},
   "outputs": [
    {
     "ename": "NameError",
     "evalue": "undefined local variable or method `rbss' for main:Object",
     "output_type": "error",
     "traceback": [
      "\u001b[31mNameError\u001b[0m: undefined local variable or method `rbss' for main:Object",
      "\u001b[37m<main>:6:in `block in <main>'\u001b[0m",
      "\u001b[37m<main>:4:in `each'\u001b[0m",
      "\u001b[37m<main>:4:in `with_index'\u001b[0m",
      "\u001b[37m<main>:4:in `<main>'\u001b[0m",
      "\u001b[37mC:/Ruby24-x64/lib/ruby/gems/2.4.0/gems/iruby-0.3/lib/iruby/backend.rb:44:in `eval'\u001b[0m",
      "\u001b[37mC:/Ruby24-x64/lib/ruby/gems/2.4.0/gems/iruby-0.3/lib/iruby/backend.rb:44:in `eval'\u001b[0m",
      "\u001b[37mC:/Ruby24-x64/lib/ruby/gems/2.4.0/gems/iruby-0.3/lib/iruby/backend.rb:12:in `eval'\u001b[0m",
      "\u001b[37mC:/Ruby24-x64/lib/ruby/gems/2.4.0/gems/iruby-0.3/lib/iruby/kernel.rb:87:in `execute_request'\u001b[0m",
      "\u001b[37mC:/Ruby24-x64/lib/ruby/gems/2.4.0/gems/iruby-0.3/lib/iruby/kernel.rb:47:in `dispatch'\u001b[0m",
      "\u001b[37mC:/Ruby24-x64/lib/ruby/gems/2.4.0/gems/iruby-0.3/lib/iruby/kernel.rb:37:in `run'\u001b[0m",
      "\u001b[37mC:/Ruby24-x64/lib/ruby/gems/2.4.0/gems/iruby-0.3/lib/iruby/command.rb:70:in `run_kernel'\u001b[0m",
      "\u001b[37mC:/Ruby24-x64/lib/ruby/gems/2.4.0/gems/iruby-0.3/lib/iruby/command.rb:34:in `run'\u001b[0m",
      "\u001b[37mC:/Ruby24-x64/lib/ruby/gems/2.4.0/gems/iruby-0.3/bin/iruby:5:in `<top (required)>'\u001b[0m",
      "\u001b[37mC:/Ruby24-x64/bin/iruby:23:in `load'\u001b[0m",
      "\u001b[37mC:/Ruby24-x64/bin/iruby:23:in `<main>'\u001b[0m"
     ]
    }
   ],
   "source": [
    "# now it's the time to do actual predictions\n",
    "predictions = []\n",
    "data_test = data_all[0, 10000]\n",
    "\n",
    "data_test.each.with_index do |row, i|\n",
    "  total = 0.0\n",
    "  rbss.each.with_index do |rbs, i|\n",
    "    p = predict_iv row, rbs\n",
    "    total += (p[1]/(p[0] + 0.01)) if p.length > 1\n",
    "  end\n",
    "  print \"Processing data \" + i.to_s + \"\\r\"\n",
    "  predictions << { \"something\" => total }\n",
    "end\n",
    "\n",
    "scores = predictions.collect{ |k| k.values[0] }.uniq.sort.reverse\n",
    "scores_limited = scores.select.with_index {|x, i| i % 200 == 0}\n",
    "1"
   ]
  },
  {
   "cell_type": "code",
   "execution_count": 13,
   "metadata": {
    "scrolled": true
   },
   "outputs": [
    {
     "ename": "NoMethodError",
     "evalue": "undefined method `each' for nil:NilClass",
     "output_type": "error",
     "traceback": [
      "\u001b[31mNoMethodError\u001b[0m: undefined method `each' for nil:NilClass",
      "\u001b[37mC:/Work/Kaggle/assignment.rb:323:in `roc_curve'\u001b[0m",
      "\u001b[37m<main>:1:in `<main>'\u001b[0m",
      "\u001b[37mC:/Ruby24-x64/lib/ruby/gems/2.4.0/gems/iruby-0.3/lib/iruby/backend.rb:44:in `eval'\u001b[0m",
      "\u001b[37mC:/Ruby24-x64/lib/ruby/gems/2.4.0/gems/iruby-0.3/lib/iruby/backend.rb:44:in `eval'\u001b[0m",
      "\u001b[37mC:/Ruby24-x64/lib/ruby/gems/2.4.0/gems/iruby-0.3/lib/iruby/backend.rb:12:in `eval'\u001b[0m",
      "\u001b[37mC:/Ruby24-x64/lib/ruby/gems/2.4.0/gems/iruby-0.3/lib/iruby/kernel.rb:87:in `execute_request'\u001b[0m",
      "\u001b[37mC:/Ruby24-x64/lib/ruby/gems/2.4.0/gems/iruby-0.3/lib/iruby/kernel.rb:47:in `dispatch'\u001b[0m",
      "\u001b[37mC:/Ruby24-x64/lib/ruby/gems/2.4.0/gems/iruby-0.3/lib/iruby/kernel.rb:37:in `run'\u001b[0m",
      "\u001b[37mC:/Ruby24-x64/lib/ruby/gems/2.4.0/gems/iruby-0.3/lib/iruby/command.rb:70:in `run_kernel'\u001b[0m",
      "\u001b[37mC:/Ruby24-x64/lib/ruby/gems/2.4.0/gems/iruby-0.3/lib/iruby/command.rb:34:in `run'\u001b[0m",
      "\u001b[37mC:/Ruby24-x64/lib/ruby/gems/2.4.0/gems/iruby-0.3/bin/iruby:5:in `<top (required)>'\u001b[0m",
      "\u001b[37mC:/Ruby24-x64/bin/iruby:23:in `load'\u001b[0m",
      "\u001b[37mC:/Ruby24-x64/bin/iruby:23:in `<main>'\u001b[0m"
     ]
    }
   ],
   "source": [
    "fprs, tprs = roc_curve data_test, predictions, scores_limited\n",
    "plot(fprs, tprs)"
   ]
  },
  {
   "cell_type": "code",
   "execution_count": 14,
   "metadata": {},
   "outputs": [
    {
     "ename": "NoMethodError",
     "evalue": "undefined method `each' for nil:NilClass",
     "output_type": "error",
     "traceback": [
      "\u001b[31mNoMethodError\u001b[0m: undefined method `each' for nil:NilClass",
      "\u001b[37mC:/Work/Kaggle/assignment.rb:356:in `auc'\u001b[0m",
      "\u001b[37m<main>:in `<main>'\u001b[0m",
      "\u001b[37mC:/Ruby24-x64/lib/ruby/gems/2.4.0/gems/iruby-0.3/lib/iruby/backend.rb:44:in `eval'\u001b[0m",
      "\u001b[37mC:/Ruby24-x64/lib/ruby/gems/2.4.0/gems/iruby-0.3/lib/iruby/backend.rb:44:in `eval'\u001b[0m",
      "\u001b[37mC:/Ruby24-x64/lib/ruby/gems/2.4.0/gems/iruby-0.3/lib/iruby/backend.rb:12:in `eval'\u001b[0m",
      "\u001b[37mC:/Ruby24-x64/lib/ruby/gems/2.4.0/gems/iruby-0.3/lib/iruby/kernel.rb:87:in `execute_request'\u001b[0m",
      "\u001b[37mC:/Ruby24-x64/lib/ruby/gems/2.4.0/gems/iruby-0.3/lib/iruby/kernel.rb:47:in `dispatch'\u001b[0m",
      "\u001b[37mC:/Ruby24-x64/lib/ruby/gems/2.4.0/gems/iruby-0.3/lib/iruby/kernel.rb:37:in `run'\u001b[0m",
      "\u001b[37mC:/Ruby24-x64/lib/ruby/gems/2.4.0/gems/iruby-0.3/lib/iruby/command.rb:70:in `run_kernel'\u001b[0m",
      "\u001b[37mC:/Ruby24-x64/lib/ruby/gems/2.4.0/gems/iruby-0.3/lib/iruby/command.rb:34:in `run'\u001b[0m",
      "\u001b[37mC:/Ruby24-x64/lib/ruby/gems/2.4.0/gems/iruby-0.3/bin/iruby:5:in `<top (required)>'\u001b[0m",
      "\u001b[37mC:/Ruby24-x64/bin/iruby:23:in `load'\u001b[0m",
      "\u001b[37mC:/Ruby24-x64/bin/iruby:23:in `<main>'\u001b[0m"
     ]
    }
   ],
   "source": [
    "auc fprs, tprs "
   ]
  },
  {
   "cell_type": "code",
   "execution_count": 53,
   "metadata": {},
   "outputs": [
    {
     "data": {
      "text/plain": [
       "120"
      ]
     },
     "execution_count": 53,
     "metadata": {},
     "output_type": "execute_result"
    }
   ],
   "source": [
    "features_all.combination(2).to_a.length"
   ]
  },
  {
   "cell_type": "code",
   "execution_count": 54,
   "metadata": {},
   "outputs": [
    {
     "data": {
      "text/plain": [
       "1"
      ]
     },
     "execution_count": 54,
     "metadata": {},
     "output_type": "execute_result"
    }
   ],
   "source": [
    "data_real = fetch_test_data db, features_all\n",
    "1"
   ]
  },
  {
   "cell_type": "code",
   "execution_count": 55,
   "metadata": {},
   "outputs": [
    {
     "name": "stdout",
     "output_type": "stream",
     "text": [
      "Processing data 48743\r"
     ]
    },
    {
     "data": {
      "text/plain": [
       "1"
      ]
     },
     "execution_count": 55,
     "metadata": {},
     "output_type": "execute_result"
    }
   ],
   "source": [
    "# now it's the time to do actual predictions\n",
    "predictions = []\n",
    "\n",
    "data_real.each.with_index do |row, i|\n",
    "  total = 0.0\n",
    "  rbss.each.with_index do |rbs, i|\n",
    "    p = predict_iv row, rbs\n",
    "    total += (1e-3 * p[1] / (p[0] + 0.01)) if p.length > 1\n",
    "  end\n",
    "  print \"Processing data \" + i.to_s + \"\\r\"\n",
    "  predictions << { row[\"features\"][\"SK_ID_CURR\"] => total }\n",
    "end\n",
    "1"
   ]
  },
  {
   "cell_type": "code",
   "execution_count": null,
   "metadata": {},
   "outputs": [],
   "source": [
    "data_real[0]"
   ]
  },
  {
   "cell_type": "code",
   "execution_count": 56,
   "metadata": {},
   "outputs": [
    {
     "data": {
      "text/plain": [
       "1"
      ]
     },
     "execution_count": 56,
     "metadata": {},
     "output_type": "execute_result"
    }
   ],
   "source": [
    "CSV.open(\"submission.csv\", \"wb\") do |csv|\n",
    "  csv << [\"SK_ID_CURR\", \"TARGET\"]\n",
    "  predictions.each do |p|\n",
    "    p.each do |k, v|\n",
    "      csv << [k, v]\n",
    "    end\n",
    "  end\n",
    "end\n",
    "1"
   ]
  },
  {
   "cell_type": "code",
   "execution_count": null,
   "metadata": {},
   "outputs": [],
   "source": []
  },
  {
   "cell_type": "code",
   "execution_count": null,
   "metadata": {},
   "outputs": [],
   "source": []
  },
  {
   "cell_type": "code",
   "execution_count": null,
   "metadata": {},
   "outputs": [],
   "source": []
  },
  {
   "cell_type": "code",
   "execution_count": 31,
   "metadata": {},
   "outputs": [
    {
     "data": {
      "text/plain": [
       "1"
      ]
     },
     "execution_count": 31,
     "metadata": {},
     "output_type": "execute_result"
    }
   ],
   "source": [
    "data_real = fetch_test_data db, features_all\n",
    "1"
   ]
  },
  {
   "cell_type": "code",
   "execution_count": null,
   "metadata": {},
   "outputs": [],
   "source": []
  },
  {
   "cell_type": "code",
   "execution_count": null,
   "metadata": {},
   "outputs": [],
   "source": []
  },
  {
   "cell_type": "code",
   "execution_count": null,
   "metadata": {},
   "outputs": [],
   "source": []
  },
  {
   "cell_type": "code",
   "execution_count": null,
   "metadata": {},
   "outputs": [
    {
     "name": "stdout",
     "output_type": "stream",
     "text": [
      "Initialize mu table\n",
      "Mu table initialization complete\n",
      "Generate first lvl of leaves\n"
     ]
    }
   ],
   "source": [
    "# single IVFS case\n",
    "features = [\"EXT_SOURCE_3\", \"EXT_SOURCE_1\", \"EXT_SOURCE_2\", \"DAYS_BIRTH\", \"DAYS_LAST_PHONE_CHANGE\",  \"AMT_GOODS_PRICE\", \"OWN_CAR_AGE\", \n",
    "  \"REG_CITY_NOT_WORK_CITY\", \"FLAG_EMP_PHONE\", \"REGION_RATING_CLIENT_W_CITY\", \"DAYS_ID_PUBLISH\", \"REGION_RATING_CLIENT\", \"FLAG_DOCUMENT_3\",\n",
    "  \"REG_CITY_NOT_LIVE_CITY\", \"REGION_POPULATION_RELATIVE\", \"AMT_CREDIT\"]\n",
    "#features = [\"EXT_SOURCE_3\", \"EXT_SOURCE_1\", \"EXT_SOURCE_2\", \"DAYS_BIRTH\"]\n",
    "data = fetch_train_data db, features\n",
    "data = data[0, 10000]\n",
    "w = Hash.new { |h,k| h[k] = 0.0 }  \n",
    "\n",
    "# calculate the minimum support\n",
    "minsups = [0.05, 0.06]\n",
    "min_supps = Hash.new\n",
    "min_supps[0] = min_supp data, 0, minsups\n",
    "min_supps[1] = min_supp data, 1, minsups\n",
    "  \n",
    "# max lvl of the tree\n",
    "max_lvl = 3\n",
    "\n",
    "rb = []\n",
    "rb = build_search_tree data, min_supps, max_lvl, 3, w, true  \n",
    "rbs = rb[0] + rb[1]\n",
    "1"
   ]
  },
  {
   "cell_type": "code",
   "execution_count": null,
   "metadata": {},
   "outputs": [],
   "source": [
    "rbs.length"
   ]
  },
  {
   "cell_type": "code",
   "execution_count": null,
   "metadata": {},
   "outputs": [],
   "source": [
    "puts rbs.length"
   ]
  },
  {
   "cell_type": "code",
   "execution_count": null,
   "metadata": {},
   "outputs": [],
   "source": [
    "puts rb[0].length, rb[1].length"
   ]
  },
  {
   "cell_type": "code",
   "execution_count": null,
   "metadata": {},
   "outputs": [],
   "source": [
    "def predict_iv x, rbs\n",
    "  votes = Hash.new { |h,k| h[k] = 0.0 }\n",
    "  (0..1).each do |cl|\n",
    "    rbs.each do |r|\n",
    "      next if r[\"class\"] != cl\n",
    "      r[\"antecedent\"].each do |ante|\n",
    "        v = x[\"features\"][ante[\"feature\"]]\n",
    "        next if v.nil? or v == \"\"\n",
    "        header = ante[\"feature\"].to_s + \"_\" + ante[\"set\"].to_s\n",
    "        lo, hi = (mu_iv x, ante, 0.0)\n",
    "        votes[cl] += r[\"confidence\"] * ( hi + lo ) *  hi\n",
    "      end\n",
    "    end\n",
    "  end\n",
    "  return votes\n",
    "end\n",
    "\n",
    "predictions = []\n",
    "\n",
    "data_test = data_all.shuffle[0, 1000]\n",
    "\n",
    "data_test.each.with_index do |x, i|\n",
    "  total = 0.0\n",
    "  s = predict_iv x, rbs\n",
    "  max = [s[0], s[1]].max\n",
    "  predictions << { s.key(max) => s[1] / (s[0] + 0.01) }\n",
    "  print \"Processing data \" + i.to_s + \"\\r\"\n",
    "end\n",
    "\n",
    "scores = predictions.collect{ |k| k.values[0] }.uniq.sort.reverse\n",
    "scores_limited = scores.select.with_index {|x, i| i % 10 == 0}\n",
    "puts scores[0, 10]\n",
    "1"
   ]
  },
  {
   "cell_type": "code",
   "execution_count": 35,
   "metadata": {
    "scrolled": true
   },
   "outputs": [
    {
     "name": "stdout",
     "output_type": "stream",
     "text": [
      "[0.0, 0.0, 0.009825327510917031, 0.017467248908296942, 0.026200873362445413, 0.034934497816593885, 0.043668122270742356, 0.05131004366812227, 0.05895196506550218, 0.06768558951965066]\n",
      "[0.0, 0.0, 0.011904761904761904, 0.047619047619047616, 0.07142857142857142, 0.09523809523809523, 0.11904761904761904, 0.15476190476190477, 0.19047619047619047, 0.21428571428571427]\n"
     ]
    },
    {
     "data": {
      "text/html": [
       "<div id='vis-18918c0a-dd9c-4ef2-aee8-eae1f0fe2a5f'></div>\n",
       "<script>\n",
       "(function(){\n",
       "    var render = function(){\n",
       "        var model = {\"panes\":[{\"diagrams\":[{\"type\":\"line\",\"options\":{\"x\":\"x\",\"y\":\"y\"},\"data\":\"57c9deb9-2f2b-40e0-a24b-ad7bb53609f3\"}],\"options\":{\"x_label\":\"X\",\"y_label\":\"Y\",\"zoom\":true,\"width\":700,\"xrange\":[0.0,1.0],\"yrange\":[0.0,1.0]}}],\"data\":{\"57c9deb9-2f2b-40e0-a24b-ad7bb53609f3\":[{\"x\":0.0,\"y\":0.0},{\"x\":0.0,\"y\":0.0},{\"x\":0.009825327510917031,\"y\":0.011904761904761904},{\"x\":0.017467248908296942,\"y\":0.047619047619047616},{\"x\":0.026200873362445413,\"y\":0.07142857142857142},{\"x\":0.034934497816593885,\"y\":0.09523809523809523},{\"x\":0.043668122270742356,\"y\":0.11904761904761904},{\"x\":0.05131004366812227,\"y\":0.15476190476190477},{\"x\":0.05895196506550218,\"y\":0.19047619047619047},{\"x\":0.06768558951965066,\"y\":0.21428571428571427},{\"x\":0.07641921397379912,\"y\":0.23809523809523808},{\"x\":0.08406113537117904,\"y\":0.27380952380952384},{\"x\":0.09388646288209607,\"y\":0.2857142857142857},{\"x\":0.10262008733624454,\"y\":0.30952380952380953},{\"x\":0.11353711790393013,\"y\":0.30952380952380953},{\"x\":0.12336244541484716,\"y\":0.32142857142857145},{\"x\":0.13209606986899564,\"y\":0.34523809523809523},{\"x\":0.13973799126637554,\"y\":0.38095238095238093},{\"x\":0.15065502183406113,\"y\":0.38095238095238093},{\"x\":0.16048034934497818,\"y\":0.39285714285714285},{\"x\":0.17139737991266377,\"y\":0.39285714285714285},{\"x\":0.1812227074235808,\"y\":0.40476190476190477},{\"x\":0.19104803493449782,\"y\":0.4166666666666667},{\"x\":0.20087336244541484,\"y\":0.42857142857142855},{\"x\":0.2096069868995633,\"y\":0.4523809523809524},{\"x\":0.21943231441048036,\"y\":0.4642857142857143},{\"x\":0.2292576419213974,\"y\":0.47619047619047616},{\"x\":0.2390829694323144,\"y\":0.4880952380952381},{\"x\":0.24890829694323144,\"y\":0.5},{\"x\":0.259825327510917,\"y\":0.5},{\"x\":0.27074235807860264,\"y\":0.5},{\"x\":0.28056768558951967,\"y\":0.5119047619047619},{\"x\":0.2914847161572052,\"y\":0.5119047619047619},{\"x\":0.30131004366812225,\"y\":0.5238095238095238},{\"x\":0.31004366812227074,\"y\":0.5476190476190477},{\"x\":0.31877729257641924,\"y\":0.5714285714285714},{\"x\":0.32860262008733626,\"y\":0.5833333333333334},{\"x\":0.3395196506550218,\"y\":0.5833333333333334},{\"x\":0.34934497816593885,\"y\":0.5952380952380952},{\"x\":0.36026200873362446,\"y\":0.5952380952380952},{\"x\":0.36899563318777295,\"y\":0.6190476190476191},{\"x\":0.3799126637554585,\"y\":0.6190476190476191},{\"x\":0.39082969432314413,\"y\":0.6190476190476191},{\"x\":0.40065502183406115,\"y\":0.6309523809523809},{\"x\":0.4115720524017467,\"y\":0.6309523809523809},{\"x\":0.42139737991266374,\"y\":0.6428571428571429},{\"x\":0.43231441048034935,\"y\":0.6428571428571429},{\"x\":0.43995633187772926,\"y\":0.6785714285714286},{\"x\":0.45087336244541487,\"y\":0.6785714285714286},{\"x\":0.46179039301310043,\"y\":0.6785714285714286},{\"x\":0.47270742358078605,\"y\":0.6785714285714286},{\"x\":0.4836244541484716,\"y\":0.6785714285714286},{\"x\":0.4945414847161572,\"y\":0.6785714285714286},{\"x\":0.5054585152838428,\"y\":0.6785714285714286},{\"x\":0.5152838427947598,\"y\":0.6904761904761905},{\"x\":0.5262008733624454,\"y\":0.6904761904761905},{\"x\":0.537117903930131,\"y\":0.6904761904761905},{\"x\":0.5458515283842795,\"y\":0.7142857142857143},{\"x\":0.5556768558951966,\"y\":0.7261904761904762},{\"x\":0.5665938864628821,\"y\":0.7261904761904762},{\"x\":0.5775109170305677,\"y\":0.7261904761904762},{\"x\":0.5884279475982532,\"y\":0.7261904761904762},{\"x\":0.5993449781659389,\"y\":0.7261904761904762},{\"x\":0.6102620087336245,\"y\":0.7261904761904762},{\"x\":0.62117903930131,\"y\":0.7261904761904762},{\"x\":0.631004366812227,\"y\":0.7380952380952381},{\"x\":0.6408296943231441,\"y\":0.75},{\"x\":0.6517467248908297,\"y\":0.75},{\"x\":0.6626637554585153,\"y\":0.75},{\"x\":0.6724890829694323,\"y\":0.7619047619047619},{\"x\":0.6823144104803494,\"y\":0.7738095238095238},{\"x\":0.6932314410480349,\"y\":0.7738095238095238},{\"x\":0.7041484716157205,\"y\":0.7738095238095238},{\"x\":0.7150655021834061,\"y\":0.7738095238095238},{\"x\":0.7259825327510917,\"y\":0.7738095238095238},{\"x\":0.7358078602620087,\"y\":0.7857142857142857},{\"x\":0.7456331877729258,\"y\":0.7976190476190477},{\"x\":0.7554585152838428,\"y\":0.8095238095238095},{\"x\":0.7663755458515283,\"y\":0.8095238095238095},{\"x\":0.7762008733624454,\"y\":0.8214285714285714},{\"x\":0.7860262008733624,\"y\":0.8333333333333334},{\"x\":0.7969432314410481,\"y\":0.8333333333333334},{\"x\":0.8056768558951966,\"y\":0.8571428571428571},{\"x\":0.8165938864628821,\"y\":0.8571428571428571},{\"x\":0.8264192139737991,\"y\":0.8690476190476191},{\"x\":0.8362445414847162,\"y\":0.8809523809523809},{\"x\":0.8438864628820961,\"y\":0.9166666666666666},{\"x\":0.8548034934497817,\"y\":0.9166666666666666},{\"x\":0.8657205240174672,\"y\":0.9166666666666666},{\"x\":0.8744541484716157,\"y\":0.9404761904761905},{\"x\":0.8853711790393013,\"y\":0.9404761904761905},{\"x\":0.8962882096069869,\"y\":0.9404761904761905},{\"x\":0.9061135371179039,\"y\":0.9523809523809523},{\"x\":0.9170305676855895,\"y\":0.9523809523809523},{\"x\":0.9246724890829694,\"y\":0.9880952380952381},{\"x\":0.9355895196506551,\"y\":0.9880952380952381},{\"x\":0.9465065502183406,\"y\":0.9880952380952381},{\"x\":0.9574235807860262,\"y\":0.9880952380952381},{\"x\":0.9683406113537117,\"y\":0.9880952380952381},{\"x\":0.9792576419213974,\"y\":0.9880952380952381},{\"x\":0.990174672489083,\"y\":0.9880952380952381},{\"x\":1.0,\"y\":1.0}]},\"extension\":[]}\n",
       "        var id_name = '#vis-18918c0a-dd9c-4ef2-aee8-eae1f0fe2a5f';\n",
       "        Nyaplot.core.parse(model, id_name);\n",
       "\n",
       "        require(['downloadable'], function(downloadable){\n",
       "          var svg = d3.select(id_name).select(\"svg\");\n",
       "\t  if(!svg.empty())\n",
       "\t    svg.call(downloadable().filename('fig'));\n",
       "\t});\n",
       "    };\n",
       "    if(window['Nyaplot']==undefined){\n",
       "        window.addEventListener('load_nyaplot', render, false);\n",
       "\treturn;\n",
       "    } else {\n",
       "       render();\n",
       "    }\n",
       "})();\n",
       "</script>\n"
      ],
      "text/plain": [
       "#<Nyaplot::Plot:0x00000000870c7a38 @properties={:diagrams=>[#<Nyaplot::Diagram:0x0000000087026fc0 @properties={:type=>:line, :options=>{:x=>:x, :y=>:y}, :data=>\"57c9deb9-2f2b-40e0-a24b-ad7bb53609f3\"}, @xrange=[0.0, 1.0], @yrange=[0.0, 1.0]>], :options=>{:x_label=>\"X\", :y_label=>\"Y\", :zoom=>true, :width=>700, :xrange=>[0.0, 1.0], :yrange=>[0.0, 1.0]}}>"
      ]
     },
     "execution_count": 35,
     "metadata": {},
     "output_type": "execute_result"
    }
   ],
   "source": [
    "fprs, tprs = roc_curve data_test, predictions, scores_limited\n",
    "puts fprs[0, 10]\n",
    "puts tprs[0, 10]\n",
    "plot(fprs, tprs)"
   ]
  },
  {
   "cell_type": "code",
   "execution_count": 37,
   "metadata": {},
   "outputs": [
    {
     "data": {
      "text/plain": [
       "0.6406217508837594"
      ]
     },
     "execution_count": 37,
     "metadata": {},
     "output_type": "execute_result"
    }
   ],
   "source": [
    "auc fprs, tprs "
   ]
  },
  {
   "cell_type": "code",
   "execution_count": null,
   "metadata": {},
   "outputs": [
    {
     "name": "stdout",
     "output_type": "stream",
     "text": [
      "Processing data 3007\r"
     ]
    }
   ],
   "source": [
    "# now it's the time to do actual predictions\n",
    "predictions = []\n",
    "\n",
    "data_real.each.with_index do |row, i|\n",
    "  total = 0.0\n",
    "  s = predict_iv row, rbs\n",
    "  s[0] = s[0] * 0.015\n",
    "  print \"Processing data \" + i.to_s + \"\\r\"\n",
    "  predictions << { row[\"features\"][\"SK_ID_CURR\"] => 1e-3 * s[1] / (s[0] + 0.01) }\n",
    "end\n",
    "1"
   ]
  },
  {
   "cell_type": "code",
   "execution_count": null,
   "metadata": {},
   "outputs": [],
   "source": [
    "CSV.open(\"submission.csv\", \"wb\") do |csv|\n",
    "  csv << [\"SK_ID_CURR\", \"TARGET\"]\n",
    "  predictions.each do |p|\n",
    "    p.each do |k, v|\n",
    "      csv << [k, v]\n",
    "    end\n",
    "  end\n",
    "end\n",
    "1"
   ]
  },
  {
   "cell_type": "code",
   "execution_count": null,
   "metadata": {},
   "outputs": [],
   "source": []
  },
  {
   "cell_type": "code",
   "execution_count": null,
   "metadata": {},
   "outputs": [],
   "source": []
  },
  {
   "cell_type": "code",
   "execution_count": null,
   "metadata": {},
   "outputs": [],
   "source": []
  },
  {
   "cell_type": "code",
   "execution_count": 58,
   "metadata": {},
   "outputs": [
    {
     "data": {
      "text/plain": [
       ":print_rbs"
      ]
     },
     "execution_count": 58,
     "metadata": {},
     "output_type": "execute_result"
    }
   ],
   "source": [
    "def set_to_ling set\n",
    "  if set == 0\n",
    "    return \"Very Low\"\n",
    "  elsif set == 1\n",
    "    return \"Low\"\n",
    "  elsif set == 2\n",
    "    return \"Medium\"\n",
    "  elsif set == 3\n",
    "    return \"High\"\n",
    "  elsif set == 4\n",
    "    return \"Very High\"\n",
    "  end\n",
    "end\n",
    "\n",
    "def set_to_ling set\n",
    "  if set == 0\n",
    "    return \"Low\"\n",
    "  elsif set == 1\n",
    "    return \"Medium\"\n",
    "  elsif set == 2\n",
    "    return \"High\"\n",
    "  end\n",
    "end\n",
    "\n",
    "# print the rule base\n",
    "def print_rbs rbs, i, n, best = true\n",
    "  rs = \"\"\n",
    "  rbs.each do |rbs_l|\n",
    "    rbs_l = best ? rbs_l.sort_by { |r| -r[\"confidence\"] }[0, i] : rbs_l.sort_by { |r| -r[\"confidence\"] }.reverse[0, i]\n",
    "    rs += \"Class \" + rbs_l[0][\"class\"].to_s + \"\\n\"\n",
    "    \n",
    "    rbs_l.each.with_index do |r, i|\n",
    "      s = \"\\trule \" + (i+1).to_s + \": If \"\n",
    "      r[\"antecedent\"].each do |ante|\n",
    "        s += ante[\"feature\"].to_s + \" is \" + (set_to_ling ante[\"set\"])\n",
    "        s += \" and \" if ante != r[\"antecedent\"].last\n",
    "      end\n",
    "      s += \" Then Class is \" + r[\"class\"].to_s + \" with Confidence \" + r[\"confidence\"].round(n).to_s +\n",
    "        \" and Support \" + r[\"support\"].round(n).to_s\n",
    "      rs += s + \"\\n\"\n",
    "    end\n",
    "  end\n",
    "  return rs\n",
    "end"
   ]
  },
  {
   "cell_type": "code",
   "execution_count": 59,
   "metadata": {},
   "outputs": [
    {
     "name": "stdout",
     "output_type": "stream",
     "text": [
      "Best 10 rules\n",
      "\n",
      "Class 0\n",
      "\trule 1: If EXT_SOURCE_2 is High and EXT_SOURCE_3 is High and REGION_RATING_CLIENT is Medium Then Class is 0 with Confidence 0.96673 and Support 0.09476\n",
      "\trule 2: If EXT_SOURCE_3 is High and REGION_RATING_CLIENT is Medium and EXT_SOURCE_2 is High Then Class is 0 with Confidence 0.96673 and Support 0.09476\n",
      "\trule 3: If EXT_SOURCE_3 is High and EXT_SOURCE_2 is High and REGION_RATING_CLIENT is Medium Then Class is 0 with Confidence 0.96673 and Support 0.09476\n",
      "\trule 4: If REGION_RATING_CLIENT is Medium and EXT_SOURCE_3 is High and EXT_SOURCE_2 is High Then Class is 0 with Confidence 0.96673 and Support 0.09476\n",
      "\trule 5: If EXT_SOURCE_2 is High and REGION_RATING_CLIENT is Medium and EXT_SOURCE_3 is High Then Class is 0 with Confidence 0.96673 and Support 0.09476\n",
      "Class 1\n",
      "\trule 1: If FLAG_EMP_PHONE is High and DAYS_LAST_PHONE_CHANGE is High and EXT_SOURCE_2 is Low Then Class is 1 with Confidence 0.20539 and Support 0.01318\n",
      "\trule 2: If DAYS_LAST_PHONE_CHANGE is High and EXT_SOURCE_2 is Low and FLAG_EMP_PHONE is High Then Class is 1 with Confidence 0.20539 and Support 0.01318\n",
      "\trule 3: If DAYS_LAST_PHONE_CHANGE is High and FLAG_EMP_PHONE is High and EXT_SOURCE_2 is Low Then Class is 1 with Confidence 0.20539 and Support 0.01318\n",
      "\trule 4: If EXT_SOURCE_2 is Low and FLAG_EMP_PHONE is High and DAYS_LAST_PHONE_CHANGE is High Then Class is 1 with Confidence 0.20539 and Support 0.01318\n",
      "\trule 5: If EXT_SOURCE_2 is Low and DAYS_LAST_PHONE_CHANGE is High and FLAG_EMP_PHONE is High Then Class is 1 with Confidence 0.20539 and Support 0.01318\n",
      "\n",
      "Worst 10 rules\n",
      "\n",
      "split line----------------------------------------------------------\n",
      "\n",
      "Class 0\n",
      "\trule 1: If EXT_SOURCE_2 is Low Then Class is 0 with Confidence 0.82821 and Support 0.09706\n",
      "\trule 2: If DAYS_LAST_PHONE_CHANGE is High and REG_CITY_NOT_WORK_CITY is High and EXT_SOURCE_1 is Medium Then Class is 0 with Confidence 0.86101 and Support 0.09226\n",
      "\trule 3: If DAYS_LAST_PHONE_CHANGE is High and EXT_SOURCE_1 is Medium and REG_CITY_NOT_WORK_CITY is High Then Class is 0 with Confidence 0.86101 and Support 0.09226\n",
      "\trule 4: If EXT_SOURCE_1 is Medium and DAYS_LAST_PHONE_CHANGE is High and REG_CITY_NOT_WORK_CITY is High Then Class is 0 with Confidence 0.86101 and Support 0.09226\n",
      "\trule 5: If EXT_SOURCE_1 is Medium and REG_CITY_NOT_WORK_CITY is High and DAYS_LAST_PHONE_CHANGE is High Then Class is 0 with Confidence 0.86101 and Support 0.09226\n",
      "Class 1\n",
      "\trule 1: If REG_CITY_NOT_WORK_CITY is Low and EXT_SOURCE_2 is High and OWN_CAR_AGE is Low Then Class is 1 with Confidence 0.04719 and Support 0.01068\n",
      "\trule 2: If OWN_CAR_AGE is Low and REG_CITY_NOT_WORK_CITY is Low and EXT_SOURCE_2 is High Then Class is 1 with Confidence 0.04719 and Support 0.01068\n",
      "\trule 3: If OWN_CAR_AGE is Low and EXT_SOURCE_2 is High and REG_CITY_NOT_WORK_CITY is Low Then Class is 1 with Confidence 0.04719 and Support 0.01068\n",
      "\trule 4: If REG_CITY_NOT_WORK_CITY is Low and OWN_CAR_AGE is Low and EXT_SOURCE_2 is High Then Class is 1 with Confidence 0.04719 and Support 0.01068\n",
      "\trule 5: If EXT_SOURCE_2 is High and REG_CITY_NOT_WORK_CITY is Low and OWN_CAR_AGE is Low Then Class is 1 with Confidence 0.04719 and Support 0.01068\n",
      "\n"
     ]
    }
   ],
   "source": [
    "puts \"Best 10 rules\\n\"\n",
    "puts print_rbs [rb[0], rb[1]], 5, 5\n",
    "puts \"Worst 10 rules\\n\"\n",
    "puts \"split line----------------------------------------------------------\\n\"\n",
    "puts print_rbs [rb[0], rb[1]], 5, 5, false"
   ]
  },
  {
   "cell_type": "code",
   "execution_count": 32,
   "metadata": {},
   "outputs": [
    {
     "name": "stdout",
     "output_type": "stream",
     "text": [
      "12933\n"
     ]
    }
   ],
   "source": [
    "puts rb[0].length"
   ]
  },
  {
   "cell_type": "code",
   "execution_count": 33,
   "metadata": {},
   "outputs": [
    {
     "name": "stdout",
     "output_type": "stream",
     "text": [
      "9725\n"
     ]
    }
   ],
   "source": [
    "puts rb[1].length"
   ]
  },
  {
   "cell_type": "code",
   "execution_count": 4,
   "metadata": {},
   "outputs": [
    {
     "data": {
      "text/plain": [
       "false"
      ]
     },
     "execution_count": 4,
     "metadata": {},
     "output_type": "execute_result"
    }
   ],
   "source": [
    "[[\"hello\", \"world\"],[\"hello\", \"world\"]].include? [\"hello\", \"waorld\"]"
   ]
  },
  {
   "cell_type": "code",
   "execution_count": null,
   "metadata": {},
   "outputs": [],
   "source": []
  }
 ],
 "metadata": {
  "kernelspec": {
   "display_name": "Ruby 2.4.4",
   "language": "ruby",
   "name": "ruby"
  },
  "language_info": {
   "file_extension": ".rb",
   "mimetype": "application/x-ruby",
   "name": "ruby",
   "version": "2.4.4"
  }
 },
 "nbformat": 4,
 "nbformat_minor": 2
}
